{
 "cells": [
  {
   "cell_type": "code",
   "execution_count": 1,
   "metadata": {},
   "outputs": [
    {
     "data": {
      "application/vnd.jupyter.widget-view+json": {
       "model_id": "c2490487773645bb986c1df9149fa36a",
       "version_major": 2,
       "version_minor": 0
      },
      "text/plain": [
       "VBox()"
      ]
     },
     "metadata": {},
     "output_type": "display_data"
    },
    {
     "name": "stdout",
     "output_type": "stream",
     "text": [
      "Starting Spark application\n"
     ]
    },
    {
     "data": {
      "text/html": [
       "<table>\n",
       "<tr><th>ID</th><th>YARN Application ID</th><th>Kind</th><th>State</th><th>Spark UI</th><th>Driver log</th><th>Current session?</th></tr><tr><td>1</td><td>application_1593025821373_0002</td><td>pyspark</td><td>idle</td><td><a target=\"_blank\" href=\"http://ip-172-31-29-19.ec2.internal:20888/proxy/application_1593025821373_0002/\">Link</a></td><td><a target=\"_blank\" href=\"http://ip-172-31-29-101.ec2.internal:8042/node/containerlogs/container_1593025821373_0002_01_000001/livy\">Link</a></td><td>✔</td></tr></table>"
      ],
      "text/plain": [
       "<IPython.core.display.HTML object>"
      ]
     },
     "metadata": {},
     "output_type": "display_data"
    },
    {
     "data": {
      "application/vnd.jupyter.widget-view+json": {
       "model_id": "",
       "version_major": 2,
       "version_minor": 0
      },
      "text/plain": [
       "FloatProgress(value=0.0, bar_style='info', description='Progress:', layout=Layout(height='25px', width='50%'),…"
      ]
     },
     "metadata": {},
     "output_type": "display_data"
    },
    {
     "name": "stdout",
     "output_type": "stream",
     "text": [
      "SparkSession available as 'spark'.\n"
     ]
    },
    {
     "data": {
      "application/vnd.jupyter.widget-view+json": {
       "model_id": "",
       "version_major": 2,
       "version_minor": 0
      },
      "text/plain": [
       "FloatProgress(value=0.0, bar_style='info', description='Progress:', layout=Layout(height='25px', width='50%'),…"
      ]
     },
     "metadata": {},
     "output_type": "display_data"
    },
    {
     "name": "stdout",
     "output_type": "stream",
     "text": [
      "Collecting pandas==1.0.4\n",
      "  Using cached https://files.pythonhosted.org/packages/a4/5f/1b6e0efab4bfb738478919d40b0e3e1a06e3d9996da45eb62a77e9a090d9/pandas-1.0.4-cp37-cp37m-manylinux1_x86_64.whl\n",
      "Requirement already satisfied: pytz>=2017.2 in /usr/local/lib/python3.7/site-packages (from pandas==1.0.4)\n",
      "Requirement already satisfied: numpy>=1.13.3 in /usr/local/lib64/python3.7/site-packages (from pandas==1.0.4)\n",
      "Collecting python-dateutil>=2.6.1 (from pandas==1.0.4)\n",
      "  Using cached https://files.pythonhosted.org/packages/d4/70/d60450c3dd48ef87586924207ae8907090de0b306af2bce5d134d78615cb/python_dateutil-2.8.1-py2.py3-none-any.whl\n",
      "Requirement already satisfied: six>=1.5 in /usr/local/lib/python3.7/site-packages (from python-dateutil>=2.6.1->pandas==1.0.4)\n",
      "Installing collected packages: python-dateutil, pandas\n",
      "Successfully installed pandas-1.0.4 python-dateutil-2.8.1\n",
      "\n",
      "Collecting matplotlib==3.2.1\n",
      "  Using cached https://files.pythonhosted.org/packages/b2/c2/71fcf957710f3ba1f09088b35776a799ba7dd95f7c2b195ec800933b276b/matplotlib-3.2.1-cp37-cp37m-manylinux1_x86_64.whl\n",
      "Requirement already satisfied: python-dateutil>=2.1 in /mnt/tmp/1593028118134-0/lib/python3.7/site-packages (from matplotlib==3.2.1)\n",
      "Collecting pyparsing!=2.0.4,!=2.1.2,!=2.1.6,>=2.0.1 (from matplotlib==3.2.1)\n",
      "  Using cached https://files.pythonhosted.org/packages/8a/bb/488841f56197b13700afd5658fc279a2025a39e22449b7cf29864669b15d/pyparsing-2.4.7-py2.py3-none-any.whl\n",
      "Collecting cycler>=0.10 (from matplotlib==3.2.1)\n",
      "  Using cached https://files.pythonhosted.org/packages/f7/d2/e07d3ebb2bd7af696440ce7e754c59dd546ffe1bbe732c8ab68b9c834e61/cycler-0.10.0-py2.py3-none-any.whl\n",
      "Requirement already satisfied: numpy>=1.11 in /usr/local/lib64/python3.7/site-packages (from matplotlib==3.2.1)\n",
      "Collecting kiwisolver>=1.0.1 (from matplotlib==3.2.1)\n",
      "  Using cached https://files.pythonhosted.org/packages/31/b9/6202dcae729998a0ade30e80ac00f616542ef445b088ec970d407dfd41c0/kiwisolver-1.2.0-cp37-cp37m-manylinux1_x86_64.whl\n",
      "Requirement already satisfied: six>=1.5 in /usr/local/lib/python3.7/site-packages (from python-dateutil>=2.1->matplotlib==3.2.1)\n",
      "Installing collected packages: pyparsing, cycler, kiwisolver, matplotlib\n",
      "Successfully installed cycler-0.10.0 kiwisolver-1.2.0 matplotlib-3.2.1 pyparsing-2.4.7\n",
      "\n",
      "Collecting imblearn==0.0\n",
      "  Using cached https://files.pythonhosted.org/packages/81/a7/4179e6ebfd654bd0eac0b9c06125b8b4c96a9d0a8ff9e9507eb2a26d2d7e/imblearn-0.0-py2.py3-none-any.whl\n",
      "Collecting imbalanced-learn (from imblearn==0.0)\n",
      "  Using cached https://files.pythonhosted.org/packages/c8/81/8db4d87b03b998fda7c6f835d807c9ae4e3b141f978597b8d7f31600be15/imbalanced_learn-0.7.0-py3-none-any.whl\n",
      "Collecting joblib>=0.11 (from imbalanced-learn->imblearn==0.0)\n",
      "  Using cached https://files.pythonhosted.org/packages/b8/a6/d1a816b89aa1e9e96bcb298eb1ee1854f21662ebc6d55ffa3d7b3b50122b/joblib-0.15.1-py3-none-any.whl\n",
      "Requirement already satisfied: scipy>=0.19.1 in /usr/local/lib64/python3.7/site-packages (from imbalanced-learn->imblearn==0.0)\n",
      "Requirement already satisfied: numpy>=1.13.3 in /usr/local/lib64/python3.7/site-packages (from imbalanced-learn->imblearn==0.0)\n",
      "Collecting scikit-learn>=0.23 (from imbalanced-learn->imblearn==0.0)\n",
      "  Using cached https://files.pythonhosted.org/packages/b8/7e/74e707b66490d4eb05f702966ad0990881127acecf9d5cdcef3c95ec6c16/scikit_learn-0.23.1-cp37-cp37m-manylinux1_x86_64.whl\n",
      "Collecting threadpoolctl>=2.0.0 (from scikit-learn>=0.23->imbalanced-learn->imblearn==0.0)\n",
      "  Using cached https://files.pythonhosted.org/packages/f7/12/ec3f2e203afa394a149911729357aa48affc59c20e2c1c8297a60f33f133/threadpoolctl-2.1.0-py3-none-any.whl\n",
      "Installing collected packages: joblib, threadpoolctl, scikit-learn, imbalanced-learn, imblearn\n",
      "Successfully installed imbalanced-learn-0.7.0 imblearn-0.0 joblib-0.15.1 scikit-learn-0.23.1 threadpoolctl-2.1.0\n",
      "\n",
      "Requirement already satisfied: scikit-learn==0.23.1 in /mnt/tmp/1593028118134-0/lib/python3.7/site-packages\n",
      "Requirement already satisfied: scipy>=0.19.1 in /usr/local/lib64/python3.7/site-packages (from scikit-learn==0.23.1)\n",
      "Requirement already satisfied: numpy>=1.13.3 in /usr/local/lib64/python3.7/site-packages (from scikit-learn==0.23.1)\n",
      "Requirement already satisfied: joblib>=0.11 in /mnt/tmp/1593028118134-0/lib/python3.7/site-packages (from scikit-learn==0.23.1)\n",
      "Requirement already satisfied: threadpoolctl>=2.0.0 in /mnt/tmp/1593028118134-0/lib/python3.7/site-packages (from scikit-learn==0.23.1)\n",
      "\n",
      "Collecting sklearn==0.0\n",
      "Requirement already satisfied: scikit-learn in /mnt/tmp/1593028118134-0/lib/python3.7/site-packages (from sklearn==0.0)\n",
      "Requirement already satisfied: scipy>=0.19.1 in /usr/local/lib64/python3.7/site-packages (from scikit-learn->sklearn==0.0)\n",
      "Requirement already satisfied: numpy>=1.13.3 in /usr/local/lib64/python3.7/site-packages (from scikit-learn->sklearn==0.0)\n",
      "Requirement already satisfied: joblib>=0.11 in /mnt/tmp/1593028118134-0/lib/python3.7/site-packages (from scikit-learn->sklearn==0.0)\n",
      "Requirement already satisfied: threadpoolctl>=2.0.0 in /mnt/tmp/1593028118134-0/lib/python3.7/site-packages (from scikit-learn->sklearn==0.0)\n",
      "Installing collected packages: sklearn\n",
      "Successfully installed sklearn-0.0\n",
      "\n",
      "Collecting boto3==1.13\n",
      "  Using cached https://files.pythonhosted.org/packages/73/db/c8902630b9a8ad3d17cb3de9ee347fe917094ec0fecd8e451076bbe1b4e0/boto3-1.13.0-py2.py3-none-any.whl\n",
      "Collecting s3transfer<0.4.0,>=0.3.0 (from boto3==1.13)\n",
      "  Using cached https://files.pythonhosted.org/packages/69/79/e6afb3d8b0b4e96cefbdc690f741d7dd24547ff1f94240c997a26fa908d3/s3transfer-0.3.3-py2.py3-none-any.whl\n",
      "Requirement already satisfied: jmespath<1.0.0,>=0.7.1 in /usr/local/lib/python3.7/site-packages (from boto3==1.13)\n",
      "Collecting botocore<1.17.0,>=1.16.0 (from boto3==1.13)\n",
      "  Using cached https://files.pythonhosted.org/packages/d4/b0/9ff467a3318aca0dcf83feafe6e5ef737f17d1ed5348412913ae0b35907a/botocore-1.16.26-py2.py3-none-any.whl\n",
      "Collecting urllib3<1.26,>=1.20; python_version != \"3.4\" (from botocore<1.17.0,>=1.16.0->boto3==1.13)\n",
      "  Using cached https://files.pythonhosted.org/packages/e1/e5/df302e8017440f111c11cc41a6b432838672f5a70aa29227bf58149dc72f/urllib3-1.25.9-py2.py3-none-any.whl\n",
      "Requirement already satisfied: python-dateutil<3.0.0,>=2.1 in /mnt/tmp/1593028118134-0/lib/python3.7/site-packages (from botocore<1.17.0,>=1.16.0->boto3==1.13)\n",
      "Collecting docutils<0.16,>=0.10 (from botocore<1.17.0,>=1.16.0->boto3==1.13)\n",
      "  Using cached https://files.pythonhosted.org/packages/22/cd/a6aa959dca619918ccb55023b4cb151949c64d4d5d55b3f4ffd7eee0c6e8/docutils-0.15.2-py3-none-any.whl\n",
      "Requirement already satisfied: six>=1.5 in /usr/local/lib/python3.7/site-packages (from python-dateutil<3.0.0,>=2.1->botocore<1.17.0,>=1.16.0->boto3==1.13)\n",
      "Installing collected packages: urllib3, docutils, botocore, s3transfer, boto3\n",
      "Successfully installed boto3-1.13.0 botocore-1.16.26 docutils-0.15.2 s3transfer-0.3.3 urllib3-1.25.9"
     ]
    }
   ],
   "source": [
    "sc.install_pypi_package( \"pandas==1.0.4\" )\n",
    "sc.install_pypi_package( \"matplotlib==3.2.1\" )\n",
    "sc.install_pypi_package(\"imblearn==0.0\")\n",
    "sc.install_pypi_package(\"scikit-learn==0.23.1\")\n",
    "sc.install_pypi_package(\"sklearn==0.0\")\n",
    "sc.install_pypi_package(\"boto3==1.13\")"
   ]
  },
  {
   "cell_type": "code",
   "execution_count": 2,
   "metadata": {},
   "outputs": [
    {
     "data": {
      "application/vnd.jupyter.widget-view+json": {
       "model_id": "fd84f8ed7f09434db3b5db1e5fb7636e",
       "version_major": 2,
       "version_minor": 0
      },
      "text/plain": [
       "VBox()"
      ]
     },
     "metadata": {},
     "output_type": "display_data"
    },
    {
     "data": {
      "application/vnd.jupyter.widget-view+json": {
       "model_id": "",
       "version_major": 2,
       "version_minor": 0
      },
      "text/plain": [
       "FloatProgress(value=0.0, bar_style='info', description='Progress:', layout=Layout(height='25px', width='50%'),…"
      ]
     },
     "metadata": {},
     "output_type": "display_data"
    }
   ],
   "source": [
    "import sys\n",
    "import pandas as pd\n",
    "from pyspark.sql import SparkSession\n",
    "# create sparksession\n",
    "spark = SparkSession \\\n",
    "    .builder \\\n",
    "    .appName(\"insight\") \\\n",
    "    .getOrCreate()\n",
    "acquis_q1 = spark.read.option(\"inferSchema\", \"true\").option(\"header\", False).option(\"dateFormat\", \"yyyyMMdd\").option(\"delimiter\",\"|\").csv(\"s3://default-data/2010Q1/Acquisition_2010Q1.txt\")\n",
    "acquis_q2 = spark.read.option(\"inferSchema\", \"true\").option(\"header\", False).option(\"dateFormat\", \"yyyyMMdd\").option(\"delimiter\",\"|\").csv(\"s3://default-data/2010Q2/Acquisition_2010Q2.txt\")\n"
   ]
  },
  {
   "cell_type": "code",
   "execution_count": 3,
   "metadata": {},
   "outputs": [
    {
     "data": {
      "application/vnd.jupyter.widget-view+json": {
       "model_id": "87894a9728e5455b96d59e51aa8d5089",
       "version_major": 2,
       "version_minor": 0
      },
      "text/plain": [
       "VBox()"
      ]
     },
     "metadata": {},
     "output_type": "display_data"
    },
    {
     "data": {
      "application/vnd.jupyter.widget-view+json": {
       "model_id": "",
       "version_major": 2,
       "version_minor": 0
      },
      "text/plain": [
       "FloatProgress(value=0.0, bar_style='info', description='Progress:', layout=Layout(height='25px', width='50%'),…"
      ]
     },
     "metadata": {},
     "output_type": "display_data"
    }
   ],
   "source": [
    "acquis = acquis_q1.union(acquis_q2)\n"
   ]
  },
  {
   "cell_type": "code",
   "execution_count": 4,
   "metadata": {},
   "outputs": [
    {
     "data": {
      "application/vnd.jupyter.widget-view+json": {
       "model_id": "de6090d8f0a0442eb3ce0b23f8801a5d",
       "version_major": 2,
       "version_minor": 0
      },
      "text/plain": [
       "VBox()"
      ]
     },
     "metadata": {},
     "output_type": "display_data"
    },
    {
     "data": {
      "application/vnd.jupyter.widget-view+json": {
       "model_id": "",
       "version_major": 2,
       "version_minor": 0
      },
      "text/plain": [
       "FloatProgress(value=0.0, bar_style='info', description='Progress:', layout=Layout(height='25px', width='50%'),…"
      ]
     },
     "metadata": {},
     "output_type": "display_data"
    }
   ],
   "source": [
    "perf_q1 = spark.read.option(\"inferSchema\", \"true\").option(\"header\", False).option(\"dateFormat\", \"yyyyMMdd\").option(\"delimiter\",\"|\").csv(\"s3://default-data/2010Q1/Performance_2010Q1.txt\")\n",
    "perf_q2 = spark.read.option(\"inferSchema\", \"true\").option(\"header\", False).option(\"dateFormat\", \"yyyyMMdd\").option(\"delimiter\",\"|\").csv(\"s3://default-data/2010Q2/Performance_2010Q2.txt\")\n"
   ]
  },
  {
   "cell_type": "code",
   "execution_count": 5,
   "metadata": {},
   "outputs": [
    {
     "data": {
      "application/vnd.jupyter.widget-view+json": {
       "model_id": "6a4c96e4fd6047b8a931646987be51fd",
       "version_major": 2,
       "version_minor": 0
      },
      "text/plain": [
       "VBox()"
      ]
     },
     "metadata": {},
     "output_type": "display_data"
    },
    {
     "data": {
      "application/vnd.jupyter.widget-view+json": {
       "model_id": "",
       "version_major": 2,
       "version_minor": 0
      },
      "text/plain": [
       "FloatProgress(value=0.0, bar_style='info', description='Progress:', layout=Layout(height='25px', width='50%'),…"
      ]
     },
     "metadata": {},
     "output_type": "display_data"
    }
   ],
   "source": [
    "perf = perf_q1.union(perf_q2)"
   ]
  },
  {
   "cell_type": "code",
   "execution_count": 6,
   "metadata": {},
   "outputs": [
    {
     "data": {
      "application/vnd.jupyter.widget-view+json": {
       "model_id": "6b446e472bd443c6b08d158a19cf07c5",
       "version_major": 2,
       "version_minor": 0
      },
      "text/plain": [
       "VBox()"
      ]
     },
     "metadata": {},
     "output_type": "display_data"
    },
    {
     "data": {
      "application/vnd.jupyter.widget-view+json": {
       "model_id": "",
       "version_major": 2,
       "version_minor": 0
      },
      "text/plain": [
       "FloatProgress(value=0.0, bar_style='info', description='Progress:', layout=Layout(height='25px', width='50%'),…"
      ]
     },
     "metadata": {},
     "output_type": "display_data"
    }
   ],
   "source": [
    "col_names_aquisition = ['loanID', 'originationChannel', 'sellerName', 'origIntRate', 'origUPB', \n",
    "                       'origLoanTerm', 'originationDate', 'firstPaymentDate', 'LTV', 'CLTV', \n",
    "                        'numOfBorrowers', 'origDebtToIncomeRatio', 'borrowerCredScoreAtOrigination',\n",
    "                       'firstTimeBuyerIndicator', 'loanPurpose', 'propertyType', 'numOfUnits',\n",
    "                       'occupancyType', 'propertyState', 'zipCodeShort', 'primaryMortgInsurPercent', \n",
    "                       'productType', 'coborrowerCreditScoreAtOrig', 'mortgageInsurType', \n",
    "                       'relocationMortgIndicator']\n",
    "col_names_performance =['loanID', 'monthlyReportingPeriod', 'servicerName', 'currentIntRate',\n",
    "                       'currentActualUPB', 'loanAge', 'remMonthsToLegalMaturity', 'adjMonthToMaturity',\n",
    "                       'maturityDate', 'MSA', 'currentLoanDelinqStatus', 'modifFlag', 'zeroBalanceCode',\n",
    "                       'zeroBalanceEffectiveDate', 'lastPaidInstallDate', 'foreclosureDate',\n",
    "                       'dispositionDate', 'foreclosureCost', 'propPreservAndReparCosts', 'assetRecoveryCosts',\n",
    "                       'miscelHoldingExpensesAndCredits', 'associatedTaxesForHoldingProperty', 'netSaleProceeds',\n",
    "                       'creditEnhacementProceeds', 'repurchaseMakeWholeProceeds','otherForeclosureProceeds',\n",
    "                       'nonInterestBearingUPB', 'principalForegivenessAmount', 'repurchaseMakeWholeProceedsFlag',\n",
    "                       'foreclosurePrincipWriteOffAmont', 'servicingActivityIndicator']\n",
    "\n"
   ]
  },
  {
   "cell_type": "code",
   "execution_count": 7,
   "metadata": {},
   "outputs": [
    {
     "data": {
      "application/vnd.jupyter.widget-view+json": {
       "model_id": "721befb5d1d2461d97c76e269efd5672",
       "version_major": 2,
       "version_minor": 0
      },
      "text/plain": [
       "VBox()"
      ]
     },
     "metadata": {},
     "output_type": "display_data"
    },
    {
     "data": {
      "application/vnd.jupyter.widget-view+json": {
       "model_id": "",
       "version_major": 2,
       "version_minor": 0
      },
      "text/plain": [
       "FloatProgress(value=0.0, bar_style='info', description='Progress:', layout=Layout(height='25px', width='50%'),…"
      ]
     },
     "metadata": {},
     "output_type": "display_data"
    }
   ],
   "source": [
    "from pyspark.sql.functions import col\n",
    "#acquis_rn.where(col('loanID')==100019943199).show()\n",
    "#perf_rn.where(col('loanID')==100446401716).select(['loanID', 'modifFlag','monthlyReportingPeriod','zeroBalanceCode', 'currentLoanDelinqStatus', 'foreclosureDate']).show(50)\n",
    "#perf_rn.where(col('currentLoanDelinqStatus').isNull()).select(['loanID', 'monthlyReportingPeriod','zeroBalanceCode', 'currentLoanDelinqStatus']).show(4)"
   ]
  },
  {
   "cell_type": "code",
   "execution_count": 8,
   "metadata": {},
   "outputs": [
    {
     "data": {
      "application/vnd.jupyter.widget-view+json": {
       "model_id": "6110dfc5effc43299f2925b5e8e7f4ce",
       "version_major": 2,
       "version_minor": 0
      },
      "text/plain": [
       "VBox()"
      ]
     },
     "metadata": {},
     "output_type": "display_data"
    },
    {
     "data": {
      "application/vnd.jupyter.widget-view+json": {
       "model_id": "",
       "version_major": 2,
       "version_minor": 0
      },
      "text/plain": [
       "FloatProgress(value=0.0, bar_style='info', description='Progress:', layout=Layout(height='25px', width='50%'),…"
      ]
     },
     "metadata": {},
     "output_type": "display_data"
    }
   ],
   "source": [
    "\n",
    "i = 0\n",
    "acquis_rn = acquis\n",
    "for colname in col_names_aquisition:\n",
    "    acquis_rn = acquis_rn.withColumnRenamed(\"_c\"+str(i),col_names_aquisition[i])\n",
    "    i = i + 1\n",
    "    \n",
    "i = 0\n",
    "perf_rn = perf\n",
    "for colname in col_names_performance:\n",
    "    perf_rn = perf_rn.withColumnRenamed(\"_c\"+str(i),col_names_performance[i])\n",
    "    i = i + 1\n",
    "    "
   ]
  },
  {
   "cell_type": "code",
   "execution_count": 9,
   "metadata": {},
   "outputs": [
    {
     "data": {
      "application/vnd.jupyter.widget-view+json": {
       "model_id": "26aa7e676b74486c87c6ff4320e15b57",
       "version_major": 2,
       "version_minor": 0
      },
      "text/plain": [
       "VBox()"
      ]
     },
     "metadata": {},
     "output_type": "display_data"
    },
    {
     "data": {
      "application/vnd.jupyter.widget-view+json": {
       "model_id": "",
       "version_major": 2,
       "version_minor": 0
      },
      "text/plain": [
       "FloatProgress(value=0.0, bar_style='info', description='Progress:', layout=Layout(height='25px', width='50%'),…"
      ]
     },
     "metadata": {},
     "output_type": "display_data"
    }
   ],
   "source": [
    "from pyspark.sql.functions import to_date\n",
    "from pyspark.sql.types import IntegerType\n",
    "perf_rn = perf_rn.withColumn(\"monthlyReportingPeriod\",to_date(perf_rn.monthlyReportingPeriod,'MM/dd/yyyy'))\n",
    "perf_rn = perf_rn.withColumn(\"zeroBalanceEffectiveDate\",to_date(perf_rn.zeroBalanceEffectiveDate,'MM/yyyy'))\n",
    "perf_rn = perf_rn.withColumn(\"currentLoanDelinqStatus\", perf_rn[\"currentLoanDelinqStatus\"].cast(IntegerType()))\n",
    "acquis_rn = acquis_rn.withColumn(\"originationDate\",to_date(acquis_rn.originationDate,'MM/yyyy'))\n",
    "acquis_rn = acquis_rn.withColumn(\"firstPaymentDate\",to_date(acquis_rn.firstPaymentDate,'MM/yyyy'))\n"
   ]
  },
  {
   "cell_type": "code",
   "execution_count": 10,
   "metadata": {},
   "outputs": [
    {
     "data": {
      "application/vnd.jupyter.widget-view+json": {
       "model_id": "3273ae7d17994cccb56296a5ed38f479",
       "version_major": 2,
       "version_minor": 0
      },
      "text/plain": [
       "VBox()"
      ]
     },
     "metadata": {},
     "output_type": "display_data"
    },
    {
     "data": {
      "application/vnd.jupyter.widget-view+json": {
       "model_id": "",
       "version_major": 2,
       "version_minor": 0
      },
      "text/plain": [
       "FloatProgress(value=0.0, bar_style='info', description='Progress:', layout=Layout(height='25px', width='50%'),…"
      ]
     },
     "metadata": {},
     "output_type": "display_data"
    }
   ],
   "source": [
    "perf_rn.createOrReplaceTempView('perf')\n",
    "_2010Q1_perf_Dec2010 = spark.sql(\n",
    "'''\n",
    "SELECT \n",
    "perf.loanID, perf.monthlyReportingPeriod, perf.zeroBalanceCode, perf.currentLoanDelinqStatus FROM perf \n",
    "WHERE perf.monthlyReportingPeriod <= \"2010-12-01\"\n",
    "'''\n",
    ")"
   ]
  },
  {
   "cell_type": "code",
   "execution_count": 11,
   "metadata": {},
   "outputs": [
    {
     "data": {
      "application/vnd.jupyter.widget-view+json": {
       "model_id": "8fab3caed12144d89a4a3ba038831832",
       "version_major": 2,
       "version_minor": 0
      },
      "text/plain": [
       "VBox()"
      ]
     },
     "metadata": {},
     "output_type": "display_data"
    },
    {
     "data": {
      "application/vnd.jupyter.widget-view+json": {
       "model_id": "",
       "version_major": 2,
       "version_minor": 0
      },
      "text/plain": [
       "FloatProgress(value=0.0, bar_style='info', description='Progress:', layout=Layout(height='25px', width='50%'),…"
      ]
     },
     "metadata": {},
     "output_type": "display_data"
    }
   ],
   "source": [
    "perf_rn.createOrReplaceTempView('perf')\n",
    "_2010Q1_perf_2019 = spark.sql(\n",
    "'''\n",
    "SELECT \n",
    "perf.loanID, perf.monthlyReportingPeriod, perf.zeroBalanceCode, perf.currentLoanDelinqStatus FROM perf \n",
    "\n",
    "'''\n",
    ")"
   ]
  },
  {
   "cell_type": "code",
   "execution_count": 12,
   "metadata": {},
   "outputs": [
    {
     "data": {
      "application/vnd.jupyter.widget-view+json": {
       "model_id": "2b7a1fed43764d04b756b2546cccbfd4",
       "version_major": 2,
       "version_minor": 0
      },
      "text/plain": [
       "VBox()"
      ]
     },
     "metadata": {},
     "output_type": "display_data"
    },
    {
     "data": {
      "application/vnd.jupyter.widget-view+json": {
       "model_id": "",
       "version_major": 2,
       "version_minor": 0
      },
      "text/plain": [
       "FloatProgress(value=0.0, bar_style='info', description='Progress:', layout=Layout(height='25px', width='50%'),…"
      ]
     },
     "metadata": {},
     "output_type": "display_data"
    }
   ],
   "source": [
    "classes_2019 = _2010Q1_perf_2019.groupBy(\"loanID\").max(\"zeroBalanceCode\").withColumnRenamed(\"max(zeroBalanceCode)\", \"code\")\n",
    "classes_Dec2010 = _2010Q1_perf_Dec2010.groupBy(\"loanID\").max(\"zeroBalanceCode\").withColumnRenamed(\"max(zeroBalanceCode)\", \"code\")"
   ]
  },
  {
   "cell_type": "code",
   "execution_count": 13,
   "metadata": {},
   "outputs": [
    {
     "data": {
      "application/vnd.jupyter.widget-view+json": {
       "model_id": "a8ba9f45f6d948238c3a12a5c2da2065",
       "version_major": 2,
       "version_minor": 0
      },
      "text/plain": [
       "VBox()"
      ]
     },
     "metadata": {},
     "output_type": "display_data"
    },
    {
     "data": {
      "application/vnd.jupyter.widget-view+json": {
       "model_id": "",
       "version_major": 2,
       "version_minor": 0
      },
      "text/plain": [
       "FloatProgress(value=0.0, bar_style='info', description='Progress:', layout=Layout(height='25px', width='50%'),…"
      ]
     },
     "metadata": {},
     "output_type": "display_data"
    }
   ],
   "source": [
    "from pyspark.sql.functions import when, col\n",
    "\n",
    "classes10 = classes_Dec2010.withColumn(\"code\", when(classes_Dec2010.code.isNull(), 0).otherwise(classes_Dec2010.code))\n",
    "#classes10.groupBy(\"code\").count().sort(\"code\").show(20)"
   ]
  },
  {
   "cell_type": "code",
   "execution_count": 14,
   "metadata": {},
   "outputs": [
    {
     "data": {
      "application/vnd.jupyter.widget-view+json": {
       "model_id": "315c0329d49c4567975074658516a10c",
       "version_major": 2,
       "version_minor": 0
      },
      "text/plain": [
       "VBox()"
      ]
     },
     "metadata": {},
     "output_type": "display_data"
    },
    {
     "data": {
      "application/vnd.jupyter.widget-view+json": {
       "model_id": "",
       "version_major": 2,
       "version_minor": 0
      },
      "text/plain": [
       "FloatProgress(value=0.0, bar_style='info', description='Progress:', layout=Layout(height='25px', width='50%'),…"
      ]
     },
     "metadata": {},
     "output_type": "display_data"
    }
   ],
   "source": [
    "classes19 = classes_2019.withColumn(\"code\", when(classes_2019.code.isNull(), 0).otherwise(classes_2019.code))\n",
    "#classes19.groupBy(\"code\").count().sort(\"code\").show(20)"
   ]
  },
  {
   "cell_type": "code",
   "execution_count": 15,
   "metadata": {},
   "outputs": [
    {
     "data": {
      "application/vnd.jupyter.widget-view+json": {
       "model_id": "ba8e0bf70cd444dc9545314dd0c277a8",
       "version_major": 2,
       "version_minor": 0
      },
      "text/plain": [
       "VBox()"
      ]
     },
     "metadata": {},
     "output_type": "display_data"
    },
    {
     "data": {
      "application/vnd.jupyter.widget-view+json": {
       "model_id": "",
       "version_major": 2,
       "version_minor": 0
      },
      "text/plain": [
       "FloatProgress(value=0.0, bar_style='info', description='Progress:', layout=Layout(height='25px', width='50%'),…"
      ]
     },
     "metadata": {},
     "output_type": "display_data"
    }
   ],
   "source": [
    "classes10 = classes10.filter((classes10.code!= 2) & (classes10.code!= 3) & (classes10.code!= 6) & (classes10.code!= 9))\n",
    "#classes10.groupBy(\"code\").count().sort(\"code\").show(20)\n"
   ]
  },
  {
   "cell_type": "code",
   "execution_count": 16,
   "metadata": {},
   "outputs": [
    {
     "data": {
      "application/vnd.jupyter.widget-view+json": {
       "model_id": "b540510fbe08479eb7ece5d12995ff97",
       "version_major": 2,
       "version_minor": 0
      },
      "text/plain": [
       "VBox()"
      ]
     },
     "metadata": {},
     "output_type": "display_data"
    },
    {
     "data": {
      "application/vnd.jupyter.widget-view+json": {
       "model_id": "",
       "version_major": 2,
       "version_minor": 0
      },
      "text/plain": [
       "FloatProgress(value=0.0, bar_style='info', description='Progress:', layout=Layout(height='25px', width='50%'),…"
      ]
     },
     "metadata": {},
     "output_type": "display_data"
    }
   ],
   "source": [
    "classes19 = classes19.filter((classes19.code!= 0) & (classes19.code!= 1) & (classes19.code!= 6) & (classes19.code!= 15) & (classes19.code!= 16))\n",
    "#classes19.groupBy(\"code\").count().sort(\"code\").show(20)"
   ]
  },
  {
   "cell_type": "code",
   "execution_count": 17,
   "metadata": {},
   "outputs": [
    {
     "data": {
      "application/vnd.jupyter.widget-view+json": {
       "model_id": "d5d82f33a8bc4d7997954de5d812b9ab",
       "version_major": 2,
       "version_minor": 0
      },
      "text/plain": [
       "VBox()"
      ]
     },
     "metadata": {},
     "output_type": "display_data"
    },
    {
     "data": {
      "application/vnd.jupyter.widget-view+json": {
       "model_id": "",
       "version_major": 2,
       "version_minor": 0
      },
      "text/plain": [
       "FloatProgress(value=0.0, bar_style='info', description='Progress:', layout=Layout(height='25px', width='50%'),…"
      ]
     },
     "metadata": {},
     "output_type": "display_data"
    }
   ],
   "source": [
    "classes = classes19.union(classes10)"
   ]
  },
  {
   "cell_type": "code",
   "execution_count": 18,
   "metadata": {},
   "outputs": [
    {
     "data": {
      "application/vnd.jupyter.widget-view+json": {
       "model_id": "bcd56a8eba124dcfa12acf5d4ae6aab6",
       "version_major": 2,
       "version_minor": 0
      },
      "text/plain": [
       "VBox()"
      ]
     },
     "metadata": {},
     "output_type": "display_data"
    },
    {
     "data": {
      "application/vnd.jupyter.widget-view+json": {
       "model_id": "",
       "version_major": 2,
       "version_minor": 0
      },
      "text/plain": [
       "FloatProgress(value=0.0, bar_style='info', description='Progress:', layout=Layout(height='25px', width='50%'),…"
      ]
     },
     "metadata": {},
     "output_type": "display_data"
    }
   ],
   "source": [
    "classes=classes.replace((2,3),9)\n"
   ]
  },
  {
   "cell_type": "code",
   "execution_count": 19,
   "metadata": {},
   "outputs": [
    {
     "data": {
      "application/vnd.jupyter.widget-view+json": {
       "model_id": "df46655f21f94e318a0adcaba847f18d",
       "version_major": 2,
       "version_minor": 0
      },
      "text/plain": [
       "VBox()"
      ]
     },
     "metadata": {},
     "output_type": "display_data"
    },
    {
     "data": {
      "application/vnd.jupyter.widget-view+json": {
       "model_id": "",
       "version_major": 2,
       "version_minor": 0
      },
      "text/plain": [
       "FloatProgress(value=0.0, bar_style='info', description='Progress:', layout=Layout(height='25px', width='50%'),…"
      ]
     },
     "metadata": {},
     "output_type": "display_data"
    }
   ],
   "source": [
    "classes_union= classes.dropDuplicates(['loanID'])\n"
   ]
  },
  {
   "cell_type": "code",
   "execution_count": 20,
   "metadata": {},
   "outputs": [
    {
     "data": {
      "application/vnd.jupyter.widget-view+json": {
       "model_id": "e15b4c3ce6cb4cb9926c8507c0123709",
       "version_major": 2,
       "version_minor": 0
      },
      "text/plain": [
       "VBox()"
      ]
     },
     "metadata": {},
     "output_type": "display_data"
    },
    {
     "data": {
      "application/vnd.jupyter.widget-view+json": {
       "model_id": "",
       "version_major": 2,
       "version_minor": 0
      },
      "text/plain": [
       "FloatProgress(value=0.0, bar_style='info', description='Progress:', layout=Layout(height='25px', width='50%'),…"
      ]
     },
     "metadata": {},
     "output_type": "display_data"
    }
   ],
   "source": [
    "acquis_rn.createOrReplaceTempView('acquis')\n",
    "sql_acquis = spark.sql(\n",
    "'''\n",
    "SELECT acquis.loanID, acquis.originationChannel, acquis.sellerName, acquis.origIntRate, acquis.origUPB, acquis.originationDate, \n",
    "acquis.firstPaymentDate, acquis.LTV, acquis.CLTV, acquis.numOfBorrowers, acquis.origDebtToIncomeRatio, \n",
    "acquis.borrowerCredScoreAtOrigination, acquis.firstTimeBuyerIndicator, acquis.loanPurpose, acquis.propertyType, \n",
    "acquis.numOfUnits, acquis.zipCodeShort, acquis.primaryMortgInsurPercent, acquis.productType, acquis.mortgageInsurType\n",
    "FROM acquis\n",
    "\n",
    "'''\n",
    ")\n",
    "#WHERE acquis.originationDate >= \"2010-01-01\""
   ]
  },
  {
   "cell_type": "code",
   "execution_count": 21,
   "metadata": {},
   "outputs": [
    {
     "data": {
      "application/vnd.jupyter.widget-view+json": {
       "model_id": "fde70879a68f48f79f063193f7ed8875",
       "version_major": 2,
       "version_minor": 0
      },
      "text/plain": [
       "VBox()"
      ]
     },
     "metadata": {},
     "output_type": "display_data"
    },
    {
     "data": {
      "application/vnd.jupyter.widget-view+json": {
       "model_id": "",
       "version_major": 2,
       "version_minor": 0
      },
      "text/plain": [
       "FloatProgress(value=0.0, bar_style='info', description='Progress:', layout=Layout(height='25px', width='50%'),…"
      ]
     },
     "metadata": {},
     "output_type": "display_data"
    }
   ],
   "source": [
    "_2010Q1 = sql_acquis.join(classes_union,on=['loanID'],how='inner')"
   ]
  },
  {
   "cell_type": "code",
   "execution_count": 22,
   "metadata": {},
   "outputs": [
    {
     "data": {
      "application/vnd.jupyter.widget-view+json": {
       "model_id": "ce012368e90c41cfb2b6820c9fbd03f2",
       "version_major": 2,
       "version_minor": 0
      },
      "text/plain": [
       "VBox()"
      ]
     },
     "metadata": {},
     "output_type": "display_data"
    },
    {
     "data": {
      "application/vnd.jupyter.widget-view+json": {
       "model_id": "",
       "version_major": 2,
       "version_minor": 0
      },
      "text/plain": [
       "FloatProgress(value=0.0, bar_style='info', description='Progress:', layout=Layout(height='25px', width='50%'),…"
      ]
     },
     "metadata": {},
     "output_type": "display_data"
    },
    {
     "name": "stdout",
     "output_type": "stream",
     "text": [
      "+----+------+\n",
      "|code| count|\n",
      "+----+------+\n",
      "|   0|604603|\n",
      "|   1| 50740|\n",
      "|   9|  1923|\n",
      "+----+------+"
     ]
    }
   ],
   "source": [
    "\n",
    "df1 = _2010Q1.groupBy(\"code\").count().sort(\"code\")\n",
    "df1.show(20)"
   ]
  },
  {
   "cell_type": "code",
   "execution_count": 23,
   "metadata": {},
   "outputs": [
    {
     "data": {
      "application/vnd.jupyter.widget-view+json": {
       "model_id": "541641cfa7354c91834c5d31ea87fa90",
       "version_major": 2,
       "version_minor": 0
      },
      "text/plain": [
       "VBox()"
      ]
     },
     "metadata": {},
     "output_type": "display_data"
    },
    {
     "data": {
      "application/vnd.jupyter.widget-view+json": {
       "model_id": "",
       "version_major": 2,
       "version_minor": 0
      },
      "text/plain": [
       "FloatProgress(value=0.0, bar_style='info', description='Progress:', layout=Layout(height='25px', width='50%'),…"
      ]
     },
     "metadata": {},
     "output_type": "display_data"
    }
   ],
   "source": [
    "drop1= ['primaryMortgInsurPercent', 'mortgageInsurType']\n",
    "_2010Q1 = _2010Q1.drop(*drop1)"
   ]
  },
  {
   "cell_type": "code",
   "execution_count": 24,
   "metadata": {},
   "outputs": [
    {
     "data": {
      "application/vnd.jupyter.widget-view+json": {
       "model_id": "7e62b58d20ec407ba531a10954bc440a",
       "version_major": 2,
       "version_minor": 0
      },
      "text/plain": [
       "VBox()"
      ]
     },
     "metadata": {},
     "output_type": "display_data"
    },
    {
     "data": {
      "application/vnd.jupyter.widget-view+json": {
       "model_id": "",
       "version_major": 2,
       "version_minor": 0
      },
      "text/plain": [
       "FloatProgress(value=0.0, bar_style='info', description='Progress:', layout=Layout(height='25px', width='50%'),…"
      ]
     },
     "metadata": {},
     "output_type": "display_data"
    },
    {
     "name": "stdout",
     "output_type": "stream",
     "text": [
      "652897 19"
     ]
    }
   ],
   "source": [
    "_cols = _2010Q1.columns\n",
    "_2010Q1_cleaned = _2010Q1\n",
    "for _c in _cols:\n",
    "    _2010Q1_cleaned = _2010Q1_cleaned.filter(_2010Q1_cleaned[_c]. isNotNull())\n",
    "print(_2010Q1_cleaned.count(), len(_2010Q1_cleaned.columns))"
   ]
  },
  {
   "cell_type": "code",
   "execution_count": 25,
   "metadata": {},
   "outputs": [
    {
     "data": {
      "application/vnd.jupyter.widget-view+json": {
       "model_id": "be4817bae07542e6a973e90ce0f88517",
       "version_major": 2,
       "version_minor": 0
      },
      "text/plain": [
       "VBox()"
      ]
     },
     "metadata": {},
     "output_type": "display_data"
    },
    {
     "data": {
      "application/vnd.jupyter.widget-view+json": {
       "model_id": "",
       "version_major": 2,
       "version_minor": 0
      },
      "text/plain": [
       "FloatProgress(value=0.0, bar_style='info', description='Progress:', layout=Layout(height='25px', width='50%'),…"
      ]
     },
     "metadata": {},
     "output_type": "display_data"
    },
    {
     "name": "stdout",
     "output_type": "stream",
     "text": [
      "+----+------+\n",
      "|code| count|\n",
      "+----+------+\n",
      "|   0|600532|\n",
      "|   1| 50398|\n",
      "|   9|  1967|\n",
      "+----+------+"
     ]
    }
   ],
   "source": [
    "df1 = _2010Q1_cleaned.groupBy(\"code\").count().sort(\"code\")\n",
    "df1.show(20)"
   ]
  },
  {
   "cell_type": "code",
   "execution_count": 26,
   "metadata": {},
   "outputs": [
    {
     "data": {
      "application/vnd.jupyter.widget-view+json": {
       "model_id": "0e2ad210bb034e0dbc7eb8ff877e05eb",
       "version_major": 2,
       "version_minor": 0
      },
      "text/plain": [
       "VBox()"
      ]
     },
     "metadata": {},
     "output_type": "display_data"
    },
    {
     "data": {
      "application/vnd.jupyter.widget-view+json": {
       "model_id": "",
       "version_major": 2,
       "version_minor": 0
      },
      "text/plain": [
       "FloatProgress(value=0.0, bar_style='info', description='Progress:', layout=Layout(height='25px', width='50%'),…"
      ]
     },
     "metadata": {},
     "output_type": "display_data"
    },
    {
     "name": "stdout",
     "output_type": "stream",
     "text": [
      "652897 19"
     ]
    }
   ],
   "source": [
    "print(_2010Q1_cleaned.count(), len(_2010Q1_cleaned.columns))"
   ]
  },
  {
   "cell_type": "code",
   "execution_count": 27,
   "metadata": {},
   "outputs": [
    {
     "data": {
      "application/vnd.jupyter.widget-view+json": {
       "model_id": "d62c87c2de9e4b5b8e3c74f16510aa8a",
       "version_major": 2,
       "version_minor": 0
      },
      "text/plain": [
       "VBox()"
      ]
     },
     "metadata": {},
     "output_type": "display_data"
    },
    {
     "data": {
      "application/vnd.jupyter.widget-view+json": {
       "model_id": "",
       "version_major": 2,
       "version_minor": 0
      },
      "text/plain": [
       "FloatProgress(value=0.0, bar_style='info', description='Progress:', layout=Layout(height='25px', width='50%'),…"
      ]
     },
     "metadata": {},
     "output_type": "display_data"
    },
    {
     "name": "stdout",
     "output_type": "stream",
     "text": [
      "+------------+------------------+--------------------+-----------+-------+---------------+----------------+---+\n",
      "|      loanID|originationChannel|          sellerName|origIntRate|origUPB|originationDate|firstPaymentDate|LTV|\n",
      "+------------+------------------+--------------------+-----------+-------+---------------+----------------+---+\n",
      "|100044841710|                 B|               OTHER|        5.0| 358000|     2010-05-01|      2010-07-01| 80|\n",
      "|100056029701|                 C|WELLS FARGO BANK,...|       4.25| 103000|     2009-12-01|      2010-02-01| 80|\n",
      "|100121471669|                 B|               OTHER|        5.5| 182000|     2010-02-01|      2010-04-01| 70|\n",
      "|100133349871|                 R|               OTHER|      4.875| 160000|     2009-09-01|      2009-11-01| 80|\n",
      "|100156485730|                 R|               OTHER|        5.0|  90000|     2010-02-01|      2010-04-01| 80|\n",
      "|100207945740|                 R|JPMORGAN CHASE BA...|       4.99|  76000|     2010-01-01|      2010-03-01| 23|\n",
      "|100215601327|                 C|WELLS FARGO BANK,...|        5.0| 254000|     2009-10-01|      2009-12-01| 90|\n",
      "+------------+------------------+--------------------+-----------+-------+---------------+----------------+---+\n",
      "only showing top 7 rows"
     ]
    }
   ],
   "source": [
    "_2010Q1_cleaned.select(_2010Q1_cleaned.columns[0:8]).show(7)"
   ]
  },
  {
   "cell_type": "code",
   "execution_count": 28,
   "metadata": {},
   "outputs": [
    {
     "data": {
      "application/vnd.jupyter.widget-view+json": {
       "model_id": "1e7bbc5de1a745ef89f3c493bf10cce4",
       "version_major": 2,
       "version_minor": 0
      },
      "text/plain": [
       "VBox()"
      ]
     },
     "metadata": {},
     "output_type": "display_data"
    },
    {
     "data": {
      "application/vnd.jupyter.widget-view+json": {
       "model_id": "",
       "version_major": 2,
       "version_minor": 0
      },
      "text/plain": [
       "FloatProgress(value=0.0, bar_style='info', description='Progress:', layout=Layout(height='25px', width='50%'),…"
      ]
     },
     "metadata": {},
     "output_type": "display_data"
    },
    {
     "name": "stdout",
     "output_type": "stream",
     "text": [
      "+----------+------+\n",
      "|numOfUnits| count|\n",
      "+----------+------+\n",
      "|         1|637025|\n",
      "|         3|  2214|\n",
      "|         4|  2206|\n",
      "|         2| 11452|\n",
      "+----------+------+"
     ]
    }
   ],
   "source": [
    "_2010Q1_cleaned.select(\"numOfUnits\").groupBy(\"numOfUnits\").count().show(20)"
   ]
  },
  {
   "cell_type": "code",
   "execution_count": 29,
   "metadata": {},
   "outputs": [
    {
     "data": {
      "application/vnd.jupyter.widget-view+json": {
       "model_id": "b39000e8581841d6ad61d1914fec7d45",
       "version_major": 2,
       "version_minor": 0
      },
      "text/plain": [
       "VBox()"
      ]
     },
     "metadata": {},
     "output_type": "display_data"
    },
    {
     "data": {
      "application/vnd.jupyter.widget-view+json": {
       "model_id": "",
       "version_major": 2,
       "version_minor": 0
      },
      "text/plain": [
       "FloatProgress(value=0.0, bar_style='info', description='Progress:', layout=Layout(height='25px', width='50%'),…"
      ]
     },
     "metadata": {},
     "output_type": "display_data"
    }
   ],
   "source": [
    "drop2=[\"loanID\",\"originationDate\", \"firstPaymentDate\"]\n",
    "_2010Q1_cleaned = _2010Q1_cleaned.drop(*drop2) "
   ]
  },
  {
   "cell_type": "code",
   "execution_count": 30,
   "metadata": {},
   "outputs": [
    {
     "data": {
      "application/vnd.jupyter.widget-view+json": {
       "model_id": "fc1477265a0a42498fdde2f0c24d1164",
       "version_major": 2,
       "version_minor": 0
      },
      "text/plain": [
       "VBox()"
      ]
     },
     "metadata": {},
     "output_type": "display_data"
    },
    {
     "data": {
      "application/vnd.jupyter.widget-view+json": {
       "model_id": "",
       "version_major": 2,
       "version_minor": 0
      },
      "text/plain": [
       "FloatProgress(value=0.0, bar_style='info', description='Progress:', layout=Layout(height='25px', width='50%'),…"
      ]
     },
     "metadata": {},
     "output_type": "display_data"
    }
   ],
   "source": [
    "from imblearn.over_sampling import SMOTENC\n",
    "from collections import Counter\n",
    "_2010Q1_cleanedPandas =_2010Q1_cleaned.toPandas()\n",
    "\n",
    "_2010Q1_cleanedPandas[\"LTV_square\"] = _2010Q1_cleanedPandas['LTV']**2\n",
    "_2010Q1_cleanedPandas[\"numOfBorrowers_square\"] = _2010Q1_cleanedPandas['numOfBorrowers']**2\n",
    "_2010Q1_cleanedPandas[\"CLTV_square\"] = _2010Q1_cleanedPandas['CLTV']**2\n",
    "_2010Q1_cleanedPandas[\"zipCodeShort_square\"] = _2010Q1_cleanedPandas['zipCodeShort']**2\n",
    "_2010Q1_cleanedPandas[\"origUPB_square\"] = _2010Q1_cleanedPandas['origUPB']**2\n",
    "_2010Q1_cleanedPandas[\"origUPBsquare_zipCodeShortsquare\"] = _2010Q1_cleanedPandas[\"origUPB_square\"]*_2010Q1_cleanedPandas[\"zipCodeShort_square\"]\n",
    "\n",
    "y_to_resample = _2010Q1_cleanedPandas['code']\n",
    "X_to_resample = _2010Q1_cleanedPandas.drop(['code'], axis=1)\n",
    "#smote_nc = SMOTENC(categorical_features=[0, 1, 9, 10, 11,14], random_state=0)\n",
    "#X_resampled, y_resampled = smote_nc.fit_resample(X_to_resample, y_to_resample)\n",
    "#print(sorted(Counter(y_resampled).items()))"
   ]
  },
  {
   "cell_type": "code",
   "execution_count": 31,
   "metadata": {},
   "outputs": [
    {
     "data": {
      "application/vnd.jupyter.widget-view+json": {
       "model_id": "e11115927db047778c03919195fac65c",
       "version_major": 2,
       "version_minor": 0
      },
      "text/plain": [
       "VBox()"
      ]
     },
     "metadata": {},
     "output_type": "display_data"
    },
    {
     "data": {
      "application/vnd.jupyter.widget-view+json": {
       "model_id": "",
       "version_major": 2,
       "version_minor": 0
      },
      "text/plain": [
       "FloatProgress(value=0.0, bar_style='info', description='Progress:', layout=Layout(height='25px', width='50%'),…"
      ]
     },
     "metadata": {},
     "output_type": "display_data"
    },
    {
     "data": {
      "image/png": "[encoded data removed]",
      "text/plain": [
       "<IPython.core.display.Image object>"
      ]
     },
     "metadata": {},
     "output_type": "display_data"
    }
   ],
   "source": [
    "import matplotlib.pyplot as plt\n",
    "\n",
    "_2010Q1_cleanedPandas.boxplot(column='origUPB', by='code')\n",
    "plt.suptitle('')\n",
    "plt.title(\"EDA\", fontsize=10)\n",
    "plt.ylabel(\"Original Unpaid Principal Balance\", fontsize=10)\n",
    "plt.tight_layout()\n",
    "%matplot plt"
   ]
  },
  {
   "cell_type": "code",
   "execution_count": 32,
   "metadata": {},
   "outputs": [
    {
     "data": {
      "application/vnd.jupyter.widget-view+json": {
       "model_id": "5e716a0893484693959e67a6f4644b4a",
       "version_major": 2,
       "version_minor": 0
      },
      "text/plain": [
       "VBox()"
      ]
     },
     "metadata": {},
     "output_type": "display_data"
    },
    {
     "data": {
      "application/vnd.jupyter.widget-view+json": {
       "model_id": "",
       "version_major": 2,
       "version_minor": 0
      },
      "text/plain": [
       "FloatProgress(value=0.0, bar_style='info', description='Progress:', layout=Layout(height='25px', width='50%'),…"
      ]
     },
     "metadata": {},
     "output_type": "display_data"
    },
    {
     "name": "stdout",
     "output_type": "stream",
     "text": [
      "[(0, 600280), (1, 50398), (9, 2219)]"
     ]
    }
   ],
   "source": [
    "print(sorted(Counter(y_to_resample).items()))"
   ]
  },
  {
   "cell_type": "code",
   "execution_count": 33,
   "metadata": {},
   "outputs": [
    {
     "data": {
      "application/vnd.jupyter.widget-view+json": {
       "model_id": "648fd3cfab3c4461a2232217b3e8300e",
       "version_major": 2,
       "version_minor": 0
      },
      "text/plain": [
       "VBox()"
      ]
     },
     "metadata": {},
     "output_type": "display_data"
    },
    {
     "data": {
      "application/vnd.jupyter.widget-view+json": {
       "model_id": "",
       "version_major": 2,
       "version_minor": 0
      },
      "text/plain": [
       "FloatProgress(value=0.0, bar_style='info', description='Progress:', layout=Layout(height='25px', width='50%'),…"
      ]
     },
     "metadata": {},
     "output_type": "display_data"
    }
   ],
   "source": [
    "X1_droped = X_to_resample.drop(['productType'], axis=1)"
   ]
  },
  {
   "cell_type": "code",
   "execution_count": 34,
   "metadata": {},
   "outputs": [
    {
     "data": {
      "application/vnd.jupyter.widget-view+json": {
       "model_id": "ce48f2974ee646108c25f0c3958558f6",
       "version_major": 2,
       "version_minor": 0
      },
      "text/plain": [
       "VBox()"
      ]
     },
     "metadata": {},
     "output_type": "display_data"
    },
    {
     "data": {
      "application/vnd.jupyter.widget-view+json": {
       "model_id": "",
       "version_major": 2,
       "version_minor": 0
      },
      "text/plain": [
       "FloatProgress(value=0.0, bar_style='info', description='Progress:', layout=Layout(height='25px', width='50%'),…"
      ]
     },
     "metadata": {},
     "output_type": "display_data"
    },
    {
     "name": "stdout",
     "output_type": "stream",
     "text": [
      "<class 'pandas.core.frame.DataFrame'>\n",
      "RangeIndex: 652897 entries, 0 to 652896\n",
      "Data columns (total 20 columns):\n",
      " #   Column                            Non-Null Count   Dtype  \n",
      "---  ------                            --------------   -----  \n",
      " 0   originationChannel                652897 non-null  object \n",
      " 1   sellerName                        652897 non-null  object \n",
      " 2   origIntRate                       652897 non-null  float64\n",
      " 3   origUPB                           652897 non-null  int32  \n",
      " 4   LTV                               652897 non-null  int32  \n",
      " 5   CLTV                              652897 non-null  int32  \n",
      " 6   numOfBorrowers                    652897 non-null  int32  \n",
      " 7   origDebtToIncomeRatio             652897 non-null  int32  \n",
      " 8   borrowerCredScoreAtOrigination    652897 non-null  int32  \n",
      " 9   firstTimeBuyerIndicator           652897 non-null  object \n",
      " 10  loanPurpose                       652897 non-null  object \n",
      " 11  propertyType                      652897 non-null  object \n",
      " 12  numOfUnits                        652897 non-null  int32  \n",
      " 13  zipCodeShort                      652897 non-null  int32  \n",
      " 14  LTV_square                        652897 non-null  int32  \n",
      " 15  numOfBorrowers_square             652897 non-null  int32  \n",
      " 16  CLTV_square                       652897 non-null  int32  \n",
      " 17  zipCodeShort_square               652897 non-null  int32  \n",
      " 18  origUPB_square                    652897 non-null  int32  \n",
      " 19  origUPBsquare_zipCodeShortsquare  652897 non-null  int32  \n",
      "dtypes: float64(1), int32(14), object(5)\n",
      "memory usage: 64.8+ MB"
     ]
    }
   ],
   "source": [
    "X1_droped.info()"
   ]
  },
  {
   "cell_type": "code",
   "execution_count": 35,
   "metadata": {},
   "outputs": [
    {
     "data": {
      "application/vnd.jupyter.widget-view+json": {
       "model_id": "28b2c7201edd477ebea4ba30957f1bb2",
       "version_major": 2,
       "version_minor": 0
      },
      "text/plain": [
       "VBox()"
      ]
     },
     "metadata": {},
     "output_type": "display_data"
    },
    {
     "data": {
      "application/vnd.jupyter.widget-view+json": {
       "model_id": "",
       "version_major": 2,
       "version_minor": 0
      },
      "text/plain": [
       "FloatProgress(value=0.0, bar_style='info', description='Progress:', layout=Layout(height='25px', width='50%'),…"
      ]
     },
     "metadata": {},
     "output_type": "display_data"
    }
   ],
   "source": [
    "from sklearn.datasets import fetch_openml\n",
    "from sklearn.ensemble import RandomForestClassifier\n",
    "from sklearn.impute import SimpleImputer\n",
    "from sklearn.inspection import permutation_importance\n",
    "from sklearn.compose import ColumnTransformer\n",
    "from sklearn.model_selection import train_test_split\n",
    "from sklearn.pipeline import Pipeline\n",
    "from sklearn.preprocessing import OneHotEncoder\n",
    "import numpy as np\n",
    "from sklearn.linear_model import LogisticRegression\n",
    "from imblearn.over_sampling import RandomOverSampler \n",
    "from imblearn.under_sampling import RandomUnderSampler\n",
    "from sklearn import svm\n",
    "from sklearn.preprocessing import StandardScaler\n",
    "from sklearn.ensemble import AdaBoostClassifier\n",
    "from sklearn.ensemble import GradientBoostingClassifier\n",
    "from sklearn.discriminant_analysis import QuadraticDiscriminantAnalysis\n",
    "from sklearn.naive_bayes import GaussianNB\n",
    "from sklearn.svm import SVC\n",
    "from sklearn.neighbors import NearestNeighbors\n",
    "from sklearn import neighbors\n",
    "\n",
    "rng = np.random.RandomState(seed=42)\n",
    "\n",
    "\n",
    "categorical_columns = ['originationChannel', 'sellerName', 'firstTimeBuyerIndicator',\n",
    "                       'loanPurpose', 'propertyType']\n",
    "numerical_columns = ['origIntRate', 'origUPB', 'LTV', 'CLTV', 'numOfBorrowers',\n",
    "                    'origDebtToIncomeRatio', 'borrowerCredScoreAtOrigination','numOfUnits', 'zipCodeShort',\n",
    "                    'LTV_square', 'numOfBorrowers_square', 'CLTV_square', 'zipCodeShort_square', 'origUPB_square',\n",
    "                     'origUPBsquare_zipCodeShortsquare']\n",
    "\n",
    "\n",
    "X1 = X1_droped[categorical_columns + numerical_columns]\n",
    "y1=y_to_resample\n",
    "\n",
    "#spliting of data into test and train\n",
    "X1_train, X1_test, y1_train, y1_test = train_test_split(\n",
    "    X1, y1, stratify=y1, test_size = 0.25, random_state=42)\n",
    "\n",
    "over = RandomOverSampler(sampling_strategy={9:3000})\n",
    "X1_train, y1_train = over.fit_resample(X1_train, y1_train)\n",
    "\n",
    "under = RandomUnderSampler(sampling_strategy={0:3000, 1:3000})\n",
    "X1_train, y1_train = under.fit_resample(X1_train, y1_train)\n",
    "\n",
    "#pipeline for one-hot encoding of categorical features\n",
    "categorical_pipe = Pipeline([('onehot', OneHotEncoder(handle_unknown='ignore'))\n",
    "])\n",
    "\n",
    "#imputer in case value is missing from numerical feature\n",
    "numerical_pipe = Pipeline([\n",
    "    ('imputer', SimpleImputer(strategy='mean'))\n",
    "])\n",
    "#processing data\n",
    "preprocessing = ColumnTransformer(\n",
    "    [('cat', categorical_pipe, categorical_columns),\n",
    "     ('num', numerical_pipe, numerical_columns)])\n",
    "#setting up the model\n",
    "rf1 = Pipeline([\n",
    "    ('preprocess', preprocessing),\n",
    "    ('classifier',  RandomForestClassifier(random_state=42, n_estimators=100, max_features= 14))\n",
    "])\n",
    "\n",
    "#GradientBoostingClassifier(n_estimators=2000, learning_rate=1.0,\n",
    "                                              #max_features = 10, min_samples_leaf = 20, random_state=42\n",
    "#svm.SVC(kernel='poly', degree=3, gamma='auto', C=0.5)\n",
    "#svm.NuSVC(kernel=\"poly\", degree= 4)\n",
    "#neighbors.KNeighborsClassifier(n_neighbors=2, weights=\"distance\", n_jobs=-1)"
   ]
  },
  {
   "cell_type": "code",
   "execution_count": 36,
   "metadata": {},
   "outputs": [
    {
     "data": {
      "application/vnd.jupyter.widget-view+json": {
       "model_id": "45a28774cabb4ae4b2c0b1fb57ea8f49",
       "version_major": 2,
       "version_minor": 0
      },
      "text/plain": [
       "VBox()"
      ]
     },
     "metadata": {},
     "output_type": "display_data"
    },
    {
     "data": {
      "application/vnd.jupyter.widget-view+json": {
       "model_id": "",
       "version_major": 2,
       "version_minor": 0
      },
      "text/plain": [
       "FloatProgress(value=0.0, bar_style='info', description='Progress:', layout=Layout(height='25px', width='50%'),…"
      ]
     },
     "metadata": {},
     "output_type": "display_data"
    },
    {
     "name": "stdout",
     "output_type": "stream",
     "text": [
      "Pipeline(steps=[('preprocess',\n",
      "                 ColumnTransformer(transformers=[('cat',\n",
      "                                                  Pipeline(steps=[('onehot',\n",
      "                                                                   OneHotEncoder(handle_unknown='ignore'))]),\n",
      "                                                  ['originationChannel',\n",
      "                                                   'sellerName',\n",
      "                                                   'firstTimeBuyerIndicator',\n",
      "                                                   'loanPurpose',\n",
      "                                                   'propertyType']),\n",
      "                                                 ('num',\n",
      "                                                  Pipeline(steps=[('imputer',\n",
      "                                                                   SimpleImputer())]),\n",
      "                                                  ['origIntRate', 'origUPB',\n",
      "                                                   'LTV', 'CLTV',\n",
      "                                                   'numOfBorrowers',\n",
      "                                                   'origDebtToIncomeRatio',\n",
      "                                                   'borrowerCredScoreAtOrigination',\n",
      "                                                   'numOfUnits', 'zipCodeShort',\n",
      "                                                   'LTV_square',\n",
      "                                                   'numOfBorrowers_square',\n",
      "                                                   'CLTV_square',\n",
      "                                                   'zipCodeShort_square',\n",
      "                                                   'origUPB_square',\n",
      "                                                   'origUPBsquare_zipCodeShortsquare'])])),\n",
      "                ('classifier',\n",
      "                 RandomForestClassifier(max_features=14, random_state=42))])"
     ]
    }
   ],
   "source": [
    "rf1.fit(X1_train, y1_train)"
   ]
  },
  {
   "cell_type": "code",
   "execution_count": 37,
   "metadata": {},
   "outputs": [
    {
     "data": {
      "application/vnd.jupyter.widget-view+json": {
       "model_id": "ff25c3f1ec24473eb1e3d9903f8b46ec",
       "version_major": 2,
       "version_minor": 0
      },
      "text/plain": [
       "VBox()"
      ]
     },
     "metadata": {},
     "output_type": "display_data"
    },
    {
     "data": {
      "application/vnd.jupyter.widget-view+json": {
       "model_id": "",
       "version_major": 2,
       "version_minor": 0
      },
      "text/plain": [
       "FloatProgress(value=0.0, bar_style='info', description='Progress:', layout=Layout(height='25px', width='50%'),…"
      ]
     },
     "metadata": {},
     "output_type": "display_data"
    },
    {
     "name": "stdout",
     "output_type": "stream",
     "text": [
      "RF train accuracy: 1.000\n",
      "RF test accuracy: 0.563"
     ]
    }
   ],
   "source": [
    "print(\"RF train accuracy: %0.3f\" % rf1.score(X1_train, y1_train))\n",
    "print(\"RF test accuracy: %0.3f\" % rf1.score(X1_test, y1_test))"
   ]
  },
  {
   "cell_type": "code",
   "execution_count": 38,
   "metadata": {},
   "outputs": [
    {
     "data": {
      "application/vnd.jupyter.widget-view+json": {
       "model_id": "eea8a43fdaca4dcd8c6417037d89a1ef",
       "version_major": 2,
       "version_minor": 0
      },
      "text/plain": [
       "VBox()"
      ]
     },
     "metadata": {},
     "output_type": "display_data"
    },
    {
     "data": {
      "application/vnd.jupyter.widget-view+json": {
       "model_id": "",
       "version_major": 2,
       "version_minor": 0
      },
      "text/plain": [
       "FloatProgress(value=0.0, bar_style='info', description='Progress:', layout=Layout(height='25px', width='50%'),…"
      ]
     },
     "metadata": {},
     "output_type": "display_data"
    },
    {
     "data": {
      "image/png": "[encoded data removed]",
      "text/plain": [
       "<IPython.core.display.Image object>"
      ]
     },
     "metadata": {},
     "output_type": "display_data"
    }
   ],
   "source": [
    "from sklearn.metrics import plot_confusion_matrix\n",
    "import matplotlib.pyplot as plt\n",
    "class_names = [\"current payer\",\"pre-paid\",\"defaulted\"]\n",
    "# Plot non-normalized confusion matrix\n",
    "titles_options = [(\"Confusion matrix, without normalization\", None),\n",
    "                  (\"Normalized confusion matrix\", 'true')]\n",
    "for title, normalize in titles_options:\n",
    "    disp = plot_confusion_matrix(rf1, X1_test, y1_test,\n",
    "                                 display_labels=class_names,\n",
    "                                 cmap=plt.cm.Blues,\n",
    "                                 normalize=normalize)\n",
    "    disp.ax_.set_title(title)\n",
    "\n",
    "    print(title)\n",
    "    print(disp.confusion_matrix)\n",
    "\n",
    "plt.show()\n",
    "%matplot plt"
   ]
  },
  {
   "cell_type": "code",
   "execution_count": 39,
   "metadata": {},
   "outputs": [
    {
     "data": {
      "application/vnd.jupyter.widget-view+json": {
       "model_id": "c7c86b2df54f4081a4d2f8127dd598f0",
       "version_major": 2,
       "version_minor": 0
      },
      "text/plain": [
       "VBox()"
      ]
     },
     "metadata": {},
     "output_type": "display_data"
    },
    {
     "data": {
      "application/vnd.jupyter.widget-view+json": {
       "model_id": "",
       "version_major": 2,
       "version_minor": 0
      },
      "text/plain": [
       "FloatProgress(value=0.0, bar_style='info', description='Progress:', layout=Layout(height='25px', width='50%'),…"
      ]
     },
     "metadata": {},
     "output_type": "display_data"
    },
    {
     "data": {
      "image/png": "[encoded data removed]",
      "text/plain": [
       "<IPython.core.display.Image object>"
      ]
     },
     "metadata": {},
     "output_type": "display_data"
    }
   ],
   "source": [
    "import matplotlib\n",
    "import matplotlib.pyplot as plt\n",
    "\n",
    "result = permutation_importance(rf1, X1_test, y1_test.to_numpy(), n_repeats=10,\n",
    "                                random_state=42)\n",
    "sorted_idx = result.importances_mean.argsort()\n",
    "\n",
    "fig, ax = plt.subplots()\n",
    "ax.boxplot(result.importances[sorted_idx].T,\n",
    "           vert=False, labels=X1_test.columns[sorted_idx])\n",
    "ax.set_title(\"Permutation Importances (test set)\")\n",
    "fig.tight_layout()\n",
    "plt.show()\n",
    "%matplot plt"
   ]
  },
  {
   "cell_type": "code",
   "execution_count": null,
   "metadata": {},
   "outputs": [],
   "source": [
    "import tempfile\n",
    "import boto3\n",
    "import joblib\n",
    "bucket_name = \"mortgagemodel\"\n",
    "key = \"model2rf.pkl\"\n",
    "client = boto3.client('s3')\n",
    "client.create_bucket(Bucket=bucket_name)\n",
    "with tempfile.TemporaryFile() as fp:\n",
    "    joblib.dump(rf, fp)\n",
    "    fp.seek(0)\n",
    "    client.put_object(Body=fp.read(), Bucket=bucket_name, Key=key)"
   ]
  },
  {
   "cell_type": "code",
   "execution_count": null,
   "metadata": {},
   "outputs": [],
   "source": [
    "\n",
    "X2_droped = X_to_resample.drop(['originationChannel', 'sellerName', 'firstTimeBuyerIndicator',\n",
    "                      'loanPurpose', 'propertyType', 'productType', \n",
    "                     'numOfUnits'], axis=1)\n",
    "X2_train, X2_test, y2_train, y2_test = train_test_split(\n",
    "    X2_droped, y_to_resample, stratify=y_to_resample, test_size = 0.25, random_state=42)\n",
    "\n",
    "over = RandomOverSampler(sampling_strategy={9:7000})\n",
    "X2_train, y2_train = over.fit_resample(X2_train, y2_train)\n",
    "\n",
    "under = RandomUnderSampler(sampling_strategy={0:30000, 1:30000})\n",
    "X2_train, y2_train = under.fit_resample(X2_train, y2_train)\n",
    "\n",
    "rf2 = Pipeline([\n",
    "    ('classifier',RandomForestClassifier(random_state=42, n_estimators=100, max_features= 8))\n",
    "])\n",
    "#RandomForestClassifier(random_state=42, n_estimators=100, max_features= 14)\n",
    "#neighbors.KNeighborsClassifier(n_neighbors=10, weights=\"distance\", n_jobs=-1)"
   ]
  }
 ],
 "metadata": {
  "kernelspec": {
   "display_name": "PySpark",
   "language": "",
   "name": "pysparkkernel"
  },
  "language_info": {
   "codemirror_mode": {
    "name": "python",
    "version": 2
   },
   "mimetype": "text/x-python",
   "name": "pyspark",
   "pygments_lexer": "python2"
  }
 },
 "nbformat": 4,
 "nbformat_minor": 4
}
