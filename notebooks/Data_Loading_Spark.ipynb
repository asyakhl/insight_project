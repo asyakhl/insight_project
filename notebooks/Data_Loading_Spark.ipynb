{
 "cells": [
  {
   "cell_type": "code",
   "execution_count": 42,
   "metadata": {},
   "outputs": [],
   "source": [
    "import pandas as pd\n",
    "from pyspark.sql import SparkSession\n",
    "# create sparksession\n",
    "spark = SparkSession \\\n",
    "    .builder \\\n",
    "    .appName(\"insight\") \\\n",
    "    .getOrCreate()\n",
    "acquis = spark.read.option(\"inferSchema\", \"true\").option(\"header\", False).option(\"dateFormat\", \"yyyyMMdd\").option(\"delimiter\",\"|\").csv(\"./data/2000Q2/Acquisition_2000Q2.txt\")\n"
   ]
  },
  {
   "cell_type": "code",
   "execution_count": 43,
   "metadata": {},
   "outputs": [],
   "source": [
    "perf = spark.read.option(\"inferSchema\", \"true\").option(\"header\", False).option(\"dateFormat\", \"yyyyMMdd\").option(\"delimiter\",\"|\").csv(\"./data/2000Q2/Performance_2000Q2.txt\")"
   ]
  },
  {
   "cell_type": "code",
   "execution_count": 44,
   "metadata": {},
   "outputs": [],
   "source": [
    "col_names_aquisition = ['loanID', 'originationChannel', 'sellerName', 'origIntRate', 'origUPB', \n",
    "                       'origLoanTerm', 'originationDate', 'firstPaymentDate', 'LTV', 'CLTV', \n",
    "                        'numOfBorrowers', 'origDebtToIncomeRatio', 'borrowerCredScoreAtOrigination',\n",
    "                       'firstTimeBuyerIndicator', 'loanPurpose', 'propertyType', 'numOfUnits',\n",
    "                       'occupancyType', 'propertyState', 'zipCodeShort', 'primaryMortgInsurPercent', \n",
    "                       'productType', 'coborrowerCreditScoreAtOrig', 'mortgageInsurType', \n",
    "                       'relocationMortgIndicator']\n",
    "col_names_performance =['loanID', 'monthlyReportingPeriod', 'servicerName', 'currentIntRate',\n",
    "                       'currentActualUPB', 'loanAge', 'remMonthsToLegalMaturity', 'adjMonthToMaturity',\n",
    "                       'maturityDate', 'MSA', 'currentLoanDelinqStatus', 'modifFlag', 'zeroBalanceCode',\n",
    "                       'zeroBalanceEffectiveDate', 'lastPaidInstallDate', 'foreclosureDate',\n",
    "                       'dispositionDate', 'foreclosureCost', 'propPreservAndReparCosts', 'assetRecoveryCosts',\n",
    "                       'miscelHoldingExpensesAndCredits', 'associatedTaxesForHoldingProperty', 'netSaleProceeds',\n",
    "                       'creditEnhacementProceeds', 'repurchaseMakeWholeProceeds','otherForeclosureProceeds',\n",
    "                       'nonInterestBearingUPB', 'principalForegivenessAmount', 'repurchaseMakeWholeProceedsFlag',\n",
    "                       'foreclosurePrincipWriteOffAmont', 'servicingActivityIndicator']"
   ]
  },
  {
   "cell_type": "code",
   "execution_count": 45,
   "metadata": {},
   "outputs": [
    {
     "name": "stdout",
     "output_type": "stream",
     "text": [
      "+------------+------------------+--------------------+-----------+-------+------------+---------------+\n",
      "|      loanID|originationChannel|          sellerName|origIntRate|origUPB|origLoanTerm|originationDate|\n",
      "+------------+------------------+--------------------+-----------+-------+------------+---------------+\n",
      "|100004032510|                 C|JPMORGAN CHASE BA...|      7.875| 172000|         180|        04/2000|\n",
      "|100004547910|                 R|JPMORGAN CHASE BA...|      8.875|  45000|         360|        04/2000|\n",
      "|100008709521|                 R|               OTHER|      7.875|  63000|         360|        04/2000|\n",
      "|100014668102|                 C|JPMORGAN CHASE BA...|        8.0| 180000|         360|        04/2000|\n",
      "|100015226396|                 C|SUNTRUST MORTGAGE...|        8.5|  98000|         180|        03/2000|\n",
      "+------------+------------------+--------------------+-----------+-------+------------+---------------+\n",
      "only showing top 5 rows\n",
      "\n"
     ]
    }
   ],
   "source": [
    "i = 0\n",
    "acquis_rn = acquis\n",
    "for colname in col_names_aquisition:\n",
    "    acquis_rn = acquis_rn.withColumnRenamed(\"_c\"+str(i),col_names_aquisition[i])\n",
    "    i = i + 1\n",
    "    \n",
    "i = 0\n",
    "perf_rn = perf\n",
    "for colname in col_names_performance:\n",
    "    perf_rn = perf_rn.withColumnRenamed(\"_c\"+str(i),col_names_performance[i])\n",
    "    i = i + 1\n",
    "acquis_rn.select(acquis_rn.columns[:7]).show(5)"
   ]
  },
  {
   "cell_type": "code",
   "execution_count": 46,
   "metadata": {},
   "outputs": [
    {
     "name": "stdout",
     "output_type": "stream",
     "text": [
      "(274339, 25)\n"
     ]
    }
   ],
   "source": [
    "print((acquis_rn.count(), len(acquis_rn.columns)))"
   ]
  },
  {
   "cell_type": "code",
   "execution_count": 47,
   "metadata": {},
   "outputs": [
    {
     "name": "stdout",
     "output_type": "stream",
     "text": [
      "root\n",
      " |-- loanID: long (nullable = true)\n",
      " |-- originationChannel: string (nullable = true)\n",
      " |-- sellerName: string (nullable = true)\n",
      " |-- origIntRate: double (nullable = true)\n",
      " |-- origUPB: integer (nullable = true)\n",
      " |-- origLoanTerm: integer (nullable = true)\n",
      " |-- originationDate: string (nullable = true)\n",
      " |-- firstPaymentDate: string (nullable = true)\n",
      " |-- LTV: integer (nullable = true)\n",
      " |-- CLTV: integer (nullable = true)\n",
      " |-- numOfBorrowers: integer (nullable = true)\n",
      " |-- origDebtToIncomeRatio: integer (nullable = true)\n",
      " |-- borrowerCredScoreAtOrigination: integer (nullable = true)\n",
      " |-- firstTimeBuyerIndicator: string (nullable = true)\n",
      " |-- loanPurpose: string (nullable = true)\n",
      " |-- propertyType: string (nullable = true)\n",
      " |-- numOfUnits: integer (nullable = true)\n",
      " |-- occupancyType: string (nullable = true)\n",
      " |-- propertyState: string (nullable = true)\n",
      " |-- zipCodeShort: integer (nullable = true)\n",
      " |-- primaryMortgInsurPercent: integer (nullable = true)\n",
      " |-- productType: string (nullable = true)\n",
      " |-- coborrowerCreditScoreAtOrig: integer (nullable = true)\n",
      " |-- mortgageInsurType: integer (nullable = true)\n",
      " |-- relocationMortgIndicator: string (nullable = true)\n",
      "\n"
     ]
    }
   ],
   "source": [
    "acquis_rn.printSchema()"
   ]
  },
  {
   "cell_type": "code",
   "execution_count": 48,
   "metadata": {},
   "outputs": [
    {
     "name": "stdout",
     "output_type": "stream",
     "text": [
      "8260056 31\n"
     ]
    }
   ],
   "source": [
    "print(perf_rn.count(),len(perf_rn.columns))"
   ]
  },
  {
   "cell_type": "code",
   "execution_count": 49,
   "metadata": {},
   "outputs": [
    {
     "name": "stdout",
     "output_type": "stream",
     "text": [
      "+------------+----------------------+------------+--------------+----------------+-------+------------------------+\n",
      "|      loanID|monthlyReportingPeriod|servicerName|currentIntRate|currentActualUPB|loanAge|remMonthsToLegalMaturity|\n",
      "+------------+----------------------+------------+--------------+----------------+-------+------------------------+\n",
      "|100004032510|            05/01/2000|        null|         7.875|            null|      0|                     180|\n",
      "|100004032510|            06/01/2000|        null|         7.875|            null|      1|                     179|\n",
      "|100004032510|            07/01/2000|        null|         7.875|            null|      2|                     178|\n",
      "|100004032510|            08/01/2000|        null|         7.875|            null|      3|                     177|\n",
      "|100004032510|            09/01/2000|        null|         7.875|            null|      4|                     176|\n",
      "+------------+----------------------+------------+--------------+----------------+-------+------------------------+\n",
      "only showing top 5 rows\n",
      "\n"
     ]
    }
   ],
   "source": [
    "perf_rn.select(perf_rn.columns[:7]).show(5)"
   ]
  },
  {
   "cell_type": "code",
   "execution_count": null,
   "metadata": {},
   "outputs": [],
   "source": []
  }
 ],
 "metadata": {
  "kernelspec": {
   "display_name": "Python 3",
   "language": "python",
   "name": "python3"
  },
  "language_info": {
   "codemirror_mode": {
    "name": "ipython",
    "version": 3
   },
   "file_extension": ".py",
   "mimetype": "text/x-python",
   "name": "python",
   "nbconvert_exporter": "python",
   "pygments_lexer": "ipython3",
   "version": "3.7.6"
  }
 },
 "nbformat": 4,
 "nbformat_minor": 4
}
