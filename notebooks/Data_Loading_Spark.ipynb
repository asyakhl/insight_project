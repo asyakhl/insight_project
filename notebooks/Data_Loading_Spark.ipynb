{
 "cells": [
  {
   "cell_type": "code",
   "execution_count": 158,
   "metadata": {},
   "outputs": [],
   "source": [
    "import sys\n",
    "import pandas as pd\n",
    "from pyspark.sql import SparkSession\n",
    "from config import data_2010Q1_acquis\n",
    "from config import data_2010Q1_perf\n",
    "# create sparksession\n",
    "spark = SparkSession \\\n",
    "    .builder \\\n",
    "    .appName(\"insight\") \\\n",
    "    .getOrCreate()\n",
    "acquis = spark.read.option(\"inferSchema\", \"true\").option(\"header\", False).option(\"dateFormat\", \"yyyyMMdd\").option(\"delimiter\",\"|\").csv(\"../realdata/2010Q1/Acquisition_2010Q1.txt\")\n"
   ]
  },
  {
   "cell_type": "code",
   "execution_count": 159,
   "metadata": {},
   "outputs": [],
   "source": [
    "perf = spark.read.option(\"inferSchema\", \"true\").option(\"header\", False).option(\"dateFormat\", \"yyyyMMdd\").option(\"delimiter\",\"|\").csv(\"../realdata/2010Q1/Performance_2010Q1.txt\")"
   ]
  },
  {
   "cell_type": "code",
   "execution_count": 160,
   "metadata": {},
   "outputs": [],
   "source": [
    "col_names_aquisition = ['loanID', 'originationChannel', 'sellerName', 'origIntRate', 'origUPB', \n",
    "                       'origLoanTerm', 'originationDate', 'firstPaymentDate', 'LTV', 'CLTV', \n",
    "                        'numOfBorrowers', 'origDebtToIncomeRatio', 'borrowerCredScoreAtOrigination',\n",
    "                       'firstTimeBuyerIndicator', 'loanPurpose', 'propertyType', 'numOfUnits',\n",
    "                       'occupancyType', 'propertyState', 'zipCodeShort', 'primaryMortgInsurPercent', \n",
    "                       'productType', 'coborrowerCreditScoreAtOrig', 'mortgageInsurType', \n",
    "                       'relocationMortgIndicator']\n",
    "col_names_performance =['loanID', 'monthlyReportingPeriod', 'servicerName', 'currentIntRate',\n",
    "                       'currentActualUPB', 'loanAge', 'remMonthsToLegalMaturity', 'adjMonthToMaturity',\n",
    "                       'maturityDate', 'MSA', 'currentLoanDelinqStatus', 'modifFlag', 'zeroBalanceCode',\n",
    "                       'zeroBalanceEffectiveDate', 'lastPaidInstallDate', 'foreclosureDate',\n",
    "                       'dispositionDate', 'foreclosureCost', 'propPreservAndReparCosts', 'assetRecoveryCosts',\n",
    "                       'miscelHoldingExpensesAndCredits', 'associatedTaxesForHoldingProperty', 'netSaleProceeds',\n",
    "                       'creditEnhacementProceeds', 'repurchaseMakeWholeProceeds','otherForeclosureProceeds',\n",
    "                       'nonInterestBearingUPB', 'principalForegivenessAmount', 'repurchaseMakeWholeProceedsFlag',\n",
    "                       'foreclosurePrincipWriteOffAmont', 'servicingActivityIndicator']"
   ]
  },
  {
   "cell_type": "code",
   "execution_count": 161,
   "metadata": {},
   "outputs": [
    {
     "name": "stdout",
     "output_type": "stream",
     "text": [
      "+------------+------------------+--------------------+-----------+-------+------------+---------------+\n",
      "|      loanID|originationChannel|          sellerName|origIntRate|origUPB|origLoanTerm|originationDate|\n",
      "+------------+------------------+--------------------+-----------+-------+------------+---------------+\n",
      "|100010079393|                 C|WELLS FARGO BANK,...|      4.875| 284000|         360|        01/2010|\n",
      "|100013622306|                 R|JPMORGAN CHASE BA...|       4.75|  87000|         180|        12/2009|\n",
      "|100019943199|                 R|               OTHER|        5.0| 417000|         360|        11/2009|\n",
      "|100022098429|                 R|               OTHER|       5.25| 461000|         360|        01/2010|\n",
      "|100023088745|                 R|WELLS FARGO BANK,...|       5.25| 100000|         360|        11/2009|\n",
      "+------------+------------------+--------------------+-----------+-------+------------+---------------+\n",
      "only showing top 5 rows\n",
      "\n"
     ]
    }
   ],
   "source": [
    "i = 0\n",
    "acquis_rn = acquis\n",
    "for colname in col_names_aquisition:\n",
    "    acquis_rn = acquis_rn.withColumnRenamed(\"_c\"+str(i),col_names_aquisition[i])\n",
    "    i = i + 1\n",
    "    \n",
    "i = 0\n",
    "perf_rn = perf\n",
    "for colname in col_names_performance:\n",
    "    perf_rn = perf_rn.withColumnRenamed(\"_c\"+str(i),col_names_performance[i])\n",
    "    i = i + 1\n",
    "acquis_rn.select(acquis_rn.columns[:7]).show(5)"
   ]
  },
  {
   "cell_type": "code",
   "execution_count": 82,
   "metadata": {},
   "outputs": [
    {
     "name": "stdout",
     "output_type": "stream",
     "text": [
      "(323174, 25)\n"
     ]
    }
   ],
   "source": [
    "print((acquis_rn.count(), len(acquis_rn.columns)))"
   ]
  },
  {
   "cell_type": "code",
   "execution_count": 83,
   "metadata": {},
   "outputs": [
    {
     "name": "stdout",
     "output_type": "stream",
     "text": [
      "18634553 31\n"
     ]
    }
   ],
   "source": [
    "print(perf_rn.count(),len(perf_rn.columns))"
   ]
  },
  {
   "cell_type": "code",
   "execution_count": 84,
   "metadata": {},
   "outputs": [
    {
     "name": "stdout",
     "output_type": "stream",
     "text": [
      "+------------+----------------------+--------------------+--------------+----------------+-------+------------------------+\n",
      "|      loanID|monthlyReportingPeriod|        servicerName|currentIntRate|currentActualUPB|loanAge|remMonthsToLegalMaturity|\n",
      "+------------+----------------------+--------------------+--------------+----------------+-------+------------------------+\n",
      "|100010079393|            02/01/2010|WELLS FARGO BANK,...|         4.875|            null|      0|                     360|\n",
      "|100010079393|            03/01/2010|                null|         4.875|            null|      1|                     359|\n",
      "|100010079393|            04/01/2010|                null|         4.875|            null|      2|                     358|\n",
      "|100010079393|            05/01/2010|                null|         4.875|            null|      3|                     357|\n",
      "|100010079393|            06/01/2010|                null|         4.875|            null|      4|                     356|\n",
      "|100010079393|            07/01/2010|                null|         4.875|            null|      5|                     355|\n",
      "|100010079393|            08/01/2010|                null|         4.875|       281525.61|      6|                     354|\n",
      "|100010079393|            09/01/2010|                null|         4.875|       281166.36|      7|                     353|\n",
      "|100010079393|            10/01/2010|                null|         4.875|       280805.65|      8|                     352|\n",
      "|100010079393|            11/01/2010|                null|         4.875|       280443.47|      9|                     351|\n",
      "+------------+----------------------+--------------------+--------------+----------------+-------+------------------------+\n",
      "only showing top 10 rows\n",
      "\n"
     ]
    }
   ],
   "source": [
    "perf_rn.select(perf_rn.columns[:7]).show(10)"
   ]
  },
  {
   "cell_type": "code",
   "execution_count": 162,
   "metadata": {},
   "outputs": [],
   "source": [
    "\n",
    "acquis_rn.createOrReplaceTempView('acquis')\n",
    "perf_rn.createOrReplaceTempView('perf')"
   ]
  },
  {
   "cell_type": "code",
   "execution_count": 163,
   "metadata": {},
   "outputs": [],
   "source": [
    "joined = spark.sql(\n",
    "'''\n",
    "SELECT perf.loanID, acquis.origIntRate, acquis.origUPB, acquis.originationDate, \n",
    "acquis.firstPaymentDate, acquis.LTV, acquis.CLTV, acquis.numOfBorrowers, acquis.origDebtToIncomeRatio, \n",
    "acquis.borrowerCredScoreAtOrigination, acquis.zipCodeShort, acquis.primaryMortgInsurPercent, \n",
    "perf.monthlyReportingPeriod, perf.loanAge, perf.currentLoanDelinqStatus FROM acquis \n",
    "    Inner JOIN perf\n",
    "        ON acquis.loanID=perf.loanID\n",
    "'''\n",
    ")"
   ]
  },
  {
   "cell_type": "code",
   "execution_count": 164,
   "metadata": {},
   "outputs": [],
   "source": [
    "joined.createOrReplaceTempView('joined')\n",
    "_2010Q1 = spark.sql(\n",
    "'''\n",
    "SELECT * FROM joined\n",
    "WHERE originationDate IN (\"01/2010\", \"02/2010\", \"03/2010\")\n",
    "'''\n",
    ")\n"
   ]
  },
  {
   "cell_type": "code",
   "execution_count": 168,
   "metadata": {},
   "outputs": [],
   "source": [
    "from pyspark.sql.functions import to_date\n",
    "from pyspark.sql.types import IntegerType\n",
    "_2010Q1 = _2010Q1.withColumn(\"monthlyReportingPeriod\",to_date(_2010Q1.monthlyReportingPeriod,'MM/dd/yyyy'))\n",
    "_2010Q1 = _2010Q1.withColumn(\"currentLoanDelinqStatus\", _2010Q1[\"currentLoanDelinqStatus\"].cast(IntegerType()))\n",
    "#_2010Q1.select(_2010Q1.columns[10:15]).show(5)\n",
    "_2010Q1 = _2010Q1.orderBy([\"loanID\",\"originationDate\",\"monthlyReportingPeriod\"])"
   ]
  },
  {
   "cell_type": "code",
   "execution_count": 174,
   "metadata": {},
   "outputs": [
    {
     "name": "stdout",
     "output_type": "stream",
     "text": [
      "9567452 15\n"
     ]
    }
   ],
   "source": [
    "print(_2010Q1.count(), len(_2010Q1.columns))"
   ]
  },
  {
   "cell_type": "code",
   "execution_count": 175,
   "metadata": {},
   "outputs": [
    {
     "data": {
      "text/plain": [
       "167864"
      ]
     },
     "execution_count": 175,
     "metadata": {},
     "output_type": "execute_result"
    }
   ],
   "source": [
    "_2010Q1.select(\"loanID\").distinct().count()"
   ]
  },
  {
   "cell_type": "code",
   "execution_count": 180,
   "metadata": {},
   "outputs": [
    {
     "name": "stdout",
     "output_type": "stream",
     "text": [
      "root\n",
      " |-- loanID: long (nullable = true)\n",
      " |-- origIntRate: double (nullable = true)\n",
      " |-- origUPB: integer (nullable = true)\n",
      " |-- originationDate: string (nullable = true)\n",
      " |-- firstPaymentDate: string (nullable = true)\n",
      " |-- LTV: integer (nullable = true)\n",
      " |-- CLTV: integer (nullable = true)\n",
      " |-- numOfBorrowers: integer (nullable = true)\n",
      " |-- origDebtToIncomeRatio: integer (nullable = true)\n",
      " |-- borrowerCredScoreAtOrigination: integer (nullable = true)\n",
      " |-- zipCodeShort: integer (nullable = true)\n",
      " |-- primaryMortgInsurPercent: integer (nullable = true)\n",
      " |-- monthlyReportingPeriod: date (nullable = true)\n",
      " |-- loanAge: integer (nullable = true)\n",
      " |-- currentLoanDelinqStatus: integer (nullable = true)\n",
      "\n"
     ]
    }
   ],
   "source": [
    "_2010Q1.printSchema()"
   ]
  },
  {
   "cell_type": "code",
   "execution_count": 181,
   "metadata": {},
   "outputs": [],
   "source": [
    "pivot_df=_2010Q1.groupBy(\"loanID\").pivot(\"monthlyReportingPeriod\").max(\"currentLoanDelinqStatus\")"
   ]
  },
  {
   "cell_type": "code",
   "execution_count": 187,
   "metadata": {},
   "outputs": [
    {
     "name": "stdout",
     "output_type": "stream",
     "text": [
      "+------------+----------+----------+----------+----------+----------+----------+----------+----------+\n",
      "|      loanID|2010-01-01|2010-02-01|2010-03-01|2010-04-01|2010-05-01|2010-06-01|2010-07-01|2010-08-01|\n",
      "+------------+----------+----------+----------+----------+----------+----------+----------+----------+\n",
      "|104858922832|      null|      null|         0|         0|         0|         0|         0|         0|\n",
      "|110951121377|      null|         0|         0|         0|         0|         0|         0|         0|\n",
      "|114840283820|      null|         0|         0|         0|         0|         0|         0|         0|\n",
      "|117516489731|      null|         0|         0|         0|         0|         0|         0|         0|\n",
      "|123911455425|      null|         0|         0|         0|         0|         0|         0|         0|\n",
      "|126206350549|      null|         0|         0|         0|         0|         0|         0|         0|\n",
      "|126899136362|      null|      null|         0|         0|         0|         0|         0|         0|\n",
      "|132757717291|      null|      null|         0|         0|         0|         0|         0|         0|\n",
      "+------------+----------+----------+----------+----------+----------+----------+----------+----------+\n",
      "only showing top 8 rows\n",
      "\n"
     ]
    }
   ],
   "source": [
    "pivot_df.select(pivot_df.columns[0:9]).show(8)"
   ]
  },
  {
   "cell_type": "code",
   "execution_count": 183,
   "metadata": {},
   "outputs": [
    {
     "name": "stdout",
     "output_type": "stream",
     "text": [
      "+----------+----------+----------+----------+----------+----------+----------+----------+----------+\n",
      "|2010-10-01|2010-11-01|2010-12-01|2011-01-01|2011-02-01|2011-03-01|2011-04-01|2011-05-01|2011-06-01|\n",
      "+----------+----------+----------+----------+----------+----------+----------+----------+----------+\n",
      "|         0|         0|         0|         0|         0|         0|         0|         0|         0|\n",
      "|         0|         0|         0|         0|         0|         0|         0|         0|         0|\n",
      "|         0|         0|         0|         0|         0|         0|         0|         0|         0|\n",
      "+----------+----------+----------+----------+----------+----------+----------+----------+----------+\n",
      "only showing top 3 rows\n",
      "\n"
     ]
    }
   ],
   "source": [
    "pivot_df.select(pivot_df.columns[10:19]).show(3)"
   ]
  },
  {
   "cell_type": "code",
   "execution_count": 184,
   "metadata": {},
   "outputs": [
    {
     "name": "stdout",
     "output_type": "stream",
     "text": [
      "+----------+----------+----------+----------+----------+----------+----------+----------+----------+\n",
      "|2011-08-01|2011-09-01|2011-10-01|2011-11-01|2011-12-01|2012-01-01|2012-02-01|2012-03-01|2012-04-01|\n",
      "+----------+----------+----------+----------+----------+----------+----------+----------+----------+\n",
      "|         0|         0|         0|         0|         0|         0|         0|         0|         0|\n",
      "|         0|         0|         0|         0|         0|         0|         0|         0|         0|\n",
      "|         0|         0|         0|         0|         0|         0|         0|         0|         0|\n",
      "+----------+----------+----------+----------+----------+----------+----------+----------+----------+\n",
      "only showing top 3 rows\n",
      "\n"
     ]
    }
   ],
   "source": [
    "pivot_df.select(pivot_df.columns[20:29]).show(3)"
   ]
  },
  {
   "cell_type": "code",
   "execution_count": 185,
   "metadata": {},
   "outputs": [
    {
     "name": "stdout",
     "output_type": "stream",
     "text": [
      "+----------+----------+----------+----------+----------+----------+----------+----------+----------+\n",
      "|2012-06-01|2012-07-01|2012-08-01|2012-09-01|2012-10-01|2012-11-01|2012-12-01|2013-01-01|2013-02-01|\n",
      "+----------+----------+----------+----------+----------+----------+----------+----------+----------+\n",
      "|         0|         0|         0|         0|         0|         0|         0|         0|         0|\n",
      "|         0|         0|         0|         0|         0|         0|         0|         0|         0|\n",
      "|         0|      null|      null|      null|      null|      null|      null|      null|      null|\n",
      "+----------+----------+----------+----------+----------+----------+----------+----------+----------+\n",
      "only showing top 3 rows\n",
      "\n"
     ]
    }
   ],
   "source": [
    "pivot_df.select(pivot_df.columns[30:39]).show(3)"
   ]
  },
  {
   "cell_type": "code",
   "execution_count": 186,
   "metadata": {},
   "outputs": [
    {
     "name": "stdout",
     "output_type": "stream",
     "text": [
      "167864 121\n"
     ]
    }
   ],
   "source": [
    "print(pivot_df.count(), len(pivot_df.columns))"
   ]
  },
  {
   "cell_type": "code",
   "execution_count": 169,
   "metadata": {},
   "outputs": [
    {
     "name": "stdout",
     "output_type": "stream",
     "text": [
      "+------------+---------------+----------------------+\n",
      "|      loanID|originationDate|monthlyReportingPeriod|\n",
      "+------------+---------------+----------------------+\n",
      "|100010079393|        01/2010|            2010-02-01|\n",
      "|100010079393|        01/2010|            2010-03-01|\n",
      "|100010079393|        01/2010|            2010-04-01|\n",
      "|100010079393|        01/2010|            2010-05-01|\n",
      "|100010079393|        01/2010|            2010-06-01|\n",
      "|100010079393|        01/2010|            2010-07-01|\n",
      "|100010079393|        01/2010|            2010-08-01|\n",
      "|100010079393|        01/2010|            2010-09-01|\n",
      "|100010079393|        01/2010|            2010-10-01|\n",
      "|100010079393|        01/2010|            2010-11-01|\n",
      "|100010079393|        01/2010|            2010-12-01|\n",
      "|100010079393|        01/2010|            2011-01-01|\n",
      "|100022098429|        01/2010|            2010-01-01|\n",
      "|100022098429|        01/2010|            2010-02-01|\n",
      "|100022098429|        01/2010|            2010-03-01|\n",
      "|100022098429|        01/2010|            2010-04-01|\n",
      "|100022098429|        01/2010|            2010-05-01|\n",
      "|100022098429|        01/2010|            2010-06-01|\n",
      "|100022098429|        01/2010|            2010-07-01|\n",
      "|100022098429|        01/2010|            2010-08-01|\n",
      "|100022098429|        01/2010|            2010-09-01|\n",
      "|100022098429|        01/2010|            2010-10-01|\n",
      "|100022098429|        01/2010|            2010-11-01|\n",
      "|100022098429|        01/2010|            2010-12-01|\n",
      "|100022098429|        01/2010|            2011-01-01|\n",
      "|100022098429|        01/2010|            2011-02-01|\n",
      "|100022098429|        01/2010|            2011-03-01|\n",
      "|100022098429|        01/2010|            2011-04-01|\n",
      "|100022098429|        01/2010|            2011-05-01|\n",
      "|100022098429|        01/2010|            2011-06-01|\n",
      "|100022098429|        01/2010|            2011-07-01|\n",
      "|100022098429|        01/2010|            2011-08-01|\n",
      "|100022098429|        01/2010|            2011-09-01|\n",
      "|100022098429|        01/2010|            2011-10-01|\n",
      "|100022098429|        01/2010|            2011-11-01|\n",
      "|100022098429|        01/2010|            2011-12-01|\n",
      "|100022098429|        01/2010|            2012-01-01|\n",
      "|100022098429|        01/2010|            2012-02-01|\n",
      "|100022098429|        01/2010|            2012-03-01|\n",
      "|100022098429|        01/2010|            2012-04-01|\n",
      "+------------+---------------+----------------------+\n",
      "only showing top 40 rows\n",
      "\n"
     ]
    }
   ],
   "source": [
    "_2010Q1.select(\"loanID\",\"originationDate\",\"monthlyReportingPeriod\").show(40)"
   ]
  },
  {
   "cell_type": "code",
   "execution_count": 170,
   "metadata": {},
   "outputs": [
    {
     "name": "stdout",
     "output_type": "stream",
     "text": [
      "+------------+------------------------+----------------------+-------+-----------------------+\n",
      "|zipCodeShort|primaryMortgInsurPercent|monthlyReportingPeriod|loanAge|currentLoanDelinqStatus|\n",
      "+------------+------------------------+----------------------+-------+-----------------------+\n",
      "|         787|                    null|            2010-02-01|      0|                      0|\n",
      "|         787|                    null|            2010-03-01|      1|                      0|\n",
      "|         787|                    null|            2010-04-01|      2|                      0|\n",
      "|         787|                    null|            2010-05-01|      3|                      0|\n",
      "+------------+------------------------+----------------------+-------+-----------------------+\n",
      "only showing top 4 rows\n",
      "\n"
     ]
    }
   ],
   "source": [
    "_2010Q1.select(_2010Q1.columns[10:15]).show(4)"
   ]
  },
  {
   "cell_type": "code",
   "execution_count": 171,
   "metadata": {},
   "outputs": [
    {
     "name": "stdout",
     "output_type": "stream",
     "text": [
      "root\n",
      " |-- loanID: long (nullable = true)\n",
      " |-- origIntRate: double (nullable = true)\n",
      " |-- origUPB: integer (nullable = true)\n",
      " |-- originationDate: string (nullable = true)\n",
      " |-- firstPaymentDate: string (nullable = true)\n",
      " |-- LTV: integer (nullable = true)\n",
      " |-- CLTV: integer (nullable = true)\n",
      " |-- numOfBorrowers: integer (nullable = true)\n",
      " |-- origDebtToIncomeRatio: integer (nullable = true)\n",
      " |-- borrowerCredScoreAtOrigination: integer (nullable = true)\n",
      " |-- zipCodeShort: integer (nullable = true)\n",
      " |-- primaryMortgInsurPercent: integer (nullable = true)\n",
      " |-- monthlyReportingPeriod: date (nullable = true)\n",
      " |-- loanAge: integer (nullable = true)\n",
      " |-- currentLoanDelinqStatus: string (nullable = true)\n",
      "\n"
     ]
    }
   ],
   "source": [
    "_2010Q1.printSchema()"
   ]
  },
  {
   "cell_type": "code",
   "execution_count": null,
   "metadata": {},
   "outputs": [],
   "source": []
  },
  {
   "cell_type": "code",
   "execution_count": 172,
   "metadata": {},
   "outputs": [
    {
     "name": "stdout",
     "output_type": "stream",
     "text": [
      "Row(max(monthlyReportingPeriod)='12/01/2019')\n"
     ]
    }
   ],
   "source": [
    "t=perf_rn.agg({\"monthlyReportingPeriod\":\"max\"}).collect()[0]\n",
    "print(t)"
   ]
  },
  {
   "cell_type": "code",
   "execution_count": 155,
   "metadata": {},
   "outputs": [
    {
     "name": "stdout",
     "output_type": "stream",
     "text": [
      "18634553\n"
     ]
    }
   ],
   "source": [
    "print(perf_rn.count())"
   ]
  },
  {
   "cell_type": "code",
   "execution_count": 173,
   "metadata": {},
   "outputs": [
    {
     "name": "stdout",
     "output_type": "stream",
     "text": [
      "Row(min(monthlyReportingPeriod)='01/01/2010')\n"
     ]
    }
   ],
   "source": [
    "t=perf_rn.agg({\"monthlyReportingPeriod\":\"min\"}).collect()[0]\n",
    "print(t)"
   ]
  },
  {
   "cell_type": "code",
   "execution_count": null,
   "metadata": {},
   "outputs": [],
   "source": []
  }
 ],
 "metadata": {
  "kernelspec": {
   "display_name": "Python 3",
   "language": "python",
   "name": "python3"
  },
  "language_info": {
   "codemirror_mode": {
    "name": "ipython",
    "version": 3
   },
   "file_extension": ".py",
   "mimetype": "text/x-python",
   "name": "python",
   "nbconvert_exporter": "python",
   "pygments_lexer": "ipython3",
   "version": "3.7.6"
  }
 },
 "nbformat": 4,
 "nbformat_minor": 4
}
